{
  "cells": [
    {
      "cell_type": "code",
      "execution_count": 1,
      "metadata": {
        "id": "RRNwpWPcartX"
      },
      "outputs": [],
      "source": [
        "import pandas as pd\n",
        "import matplotlib.pyplot as plt\n",
        "from sklearn.model_selection import train_test_split\n",
        "from sklearn.linear_model import LinearRegression\n",
        "from sklearn.metrics import r2_score, mean_squared_error, mean_absolute_error"
      ]
    },
    {
      "cell_type": "code",
      "execution_count": 2,
      "metadata": {
        "id": "BSa1YWJSarta"
      },
      "outputs": [],
      "source": [
        "mr1 = pd.read_csv('marathon_results_2015.csv')\n",
        "mr2 = pd.read_csv('marathon_results_2015.csv')\n",
        "mr3 = pd.read_csv('marathon_results_2015.csv')"
      ]
    },
    {
      "cell_type": "code",
      "execution_count": 3,
      "metadata": {
        "colab": {
          "base_uri": "https://localhost:8080/",
          "height": 377
        },
        "id": "BaRsOR7RcWG5",
        "outputId": "9ec80f5e-99aa-4949-9426-bd21eddf39da"
      },
      "outputs": [
        {
          "data": {
            "text/html": [
              "<div>\n",
              "<style scoped>\n",
              "    .dataframe tbody tr th:only-of-type {\n",
              "        vertical-align: middle;\n",
              "    }\n",
              "\n",
              "    .dataframe tbody tr th {\n",
              "        vertical-align: top;\n",
              "    }\n",
              "\n",
              "    .dataframe thead th {\n",
              "        text-align: right;\n",
              "    }\n",
              "</style>\n",
              "<table border=\"1\" class=\"dataframe\">\n",
              "  <thead>\n",
              "    <tr style=\"text-align: right;\">\n",
              "      <th></th>\n",
              "      <th>Unnamed: 0</th>\n",
              "      <th>Bib</th>\n",
              "      <th>Name</th>\n",
              "      <th>Age</th>\n",
              "      <th>M/F</th>\n",
              "      <th>City</th>\n",
              "      <th>State</th>\n",
              "      <th>Country</th>\n",
              "      <th>Citizen</th>\n",
              "      <th>Unnamed: 9</th>\n",
              "      <th>...</th>\n",
              "      <th>25K</th>\n",
              "      <th>30K</th>\n",
              "      <th>35K</th>\n",
              "      <th>40K</th>\n",
              "      <th>Pace</th>\n",
              "      <th>Proj Time</th>\n",
              "      <th>Official Time</th>\n",
              "      <th>Overall</th>\n",
              "      <th>Gender</th>\n",
              "      <th>Division</th>\n",
              "    </tr>\n",
              "  </thead>\n",
              "  <tbody>\n",
              "    <tr>\n",
              "      <th>0</th>\n",
              "      <td>0</td>\n",
              "      <td>3</td>\n",
              "      <td>Desisa, Lelisa</td>\n",
              "      <td>25</td>\n",
              "      <td>M</td>\n",
              "      <td>Ambo</td>\n",
              "      <td>NaN</td>\n",
              "      <td>ETH</td>\n",
              "      <td>NaN</td>\n",
              "      <td>NaN</td>\n",
              "      <td>...</td>\n",
              "      <td>1:16:07</td>\n",
              "      <td>1:32:00</td>\n",
              "      <td>1:47:59</td>\n",
              "      <td>2:02:39</td>\n",
              "      <td>0:04:56</td>\n",
              "      <td>-</td>\n",
              "      <td>2:09:17</td>\n",
              "      <td>1</td>\n",
              "      <td>1</td>\n",
              "      <td>1</td>\n",
              "    </tr>\n",
              "    <tr>\n",
              "      <th>1</th>\n",
              "      <td>1</td>\n",
              "      <td>4</td>\n",
              "      <td>Tsegay, Yemane Adhane</td>\n",
              "      <td>30</td>\n",
              "      <td>M</td>\n",
              "      <td>Addis Ababa</td>\n",
              "      <td>NaN</td>\n",
              "      <td>ETH</td>\n",
              "      <td>NaN</td>\n",
              "      <td>NaN</td>\n",
              "      <td>...</td>\n",
              "      <td>1:16:07</td>\n",
              "      <td>1:31:59</td>\n",
              "      <td>1:47:59</td>\n",
              "      <td>2:02:42</td>\n",
              "      <td>0:04:58</td>\n",
              "      <td>-</td>\n",
              "      <td>2:09:48</td>\n",
              "      <td>2</td>\n",
              "      <td>2</td>\n",
              "      <td>2</td>\n",
              "    </tr>\n",
              "    <tr>\n",
              "      <th>2</th>\n",
              "      <td>2</td>\n",
              "      <td>8</td>\n",
              "      <td>Chebet, Wilson</td>\n",
              "      <td>29</td>\n",
              "      <td>M</td>\n",
              "      <td>Marakwet</td>\n",
              "      <td>NaN</td>\n",
              "      <td>KEN</td>\n",
              "      <td>NaN</td>\n",
              "      <td>NaN</td>\n",
              "      <td>...</td>\n",
              "      <td>1:16:07</td>\n",
              "      <td>1:32:00</td>\n",
              "      <td>1:47:59</td>\n",
              "      <td>2:03:01</td>\n",
              "      <td>0:04:59</td>\n",
              "      <td>-</td>\n",
              "      <td>2:10:22</td>\n",
              "      <td>3</td>\n",
              "      <td>3</td>\n",
              "      <td>3</td>\n",
              "    </tr>\n",
              "    <tr>\n",
              "      <th>3</th>\n",
              "      <td>3</td>\n",
              "      <td>11</td>\n",
              "      <td>Kipyego, Bernard</td>\n",
              "      <td>28</td>\n",
              "      <td>M</td>\n",
              "      <td>Eldoret</td>\n",
              "      <td>NaN</td>\n",
              "      <td>KEN</td>\n",
              "      <td>NaN</td>\n",
              "      <td>NaN</td>\n",
              "      <td>...</td>\n",
              "      <td>1:16:07</td>\n",
              "      <td>1:32:00</td>\n",
              "      <td>1:48:03</td>\n",
              "      <td>2:03:47</td>\n",
              "      <td>0:05:00</td>\n",
              "      <td>-</td>\n",
              "      <td>2:10:47</td>\n",
              "      <td>4</td>\n",
              "      <td>4</td>\n",
              "      <td>4</td>\n",
              "    </tr>\n",
              "    <tr>\n",
              "      <th>4</th>\n",
              "      <td>4</td>\n",
              "      <td>10</td>\n",
              "      <td>Korir, Wesley</td>\n",
              "      <td>32</td>\n",
              "      <td>M</td>\n",
              "      <td>Kitale</td>\n",
              "      <td>NaN</td>\n",
              "      <td>KEN</td>\n",
              "      <td>NaN</td>\n",
              "      <td>NaN</td>\n",
              "      <td>...</td>\n",
              "      <td>1:16:07</td>\n",
              "      <td>1:32:00</td>\n",
              "      <td>1:47:59</td>\n",
              "      <td>2:03:27</td>\n",
              "      <td>0:05:00</td>\n",
              "      <td>-</td>\n",
              "      <td>2:10:49</td>\n",
              "      <td>5</td>\n",
              "      <td>5</td>\n",
              "      <td>5</td>\n",
              "    </tr>\n",
              "  </tbody>\n",
              "</table>\n",
              "<p>5 rows × 25 columns</p>\n",
              "</div>"
            ],
            "text/plain": [
              "   Unnamed: 0 Bib                   Name  Age M/F         City State Country  \\\n",
              "0           0   3         Desisa, Lelisa   25   M         Ambo   NaN     ETH   \n",
              "1           1   4  Tsegay, Yemane Adhane   30   M  Addis Ababa   NaN     ETH   \n",
              "2           2   8         Chebet, Wilson   29   M     Marakwet   NaN     KEN   \n",
              "3           3  11       Kipyego, Bernard   28   M      Eldoret   NaN     KEN   \n",
              "4           4  10          Korir, Wesley   32   M       Kitale   NaN     KEN   \n",
              "\n",
              "  Citizen Unnamed: 9  ...      25K      30K      35K      40K     Pace  \\\n",
              "0     NaN        NaN  ...  1:16:07  1:32:00  1:47:59  2:02:39  0:04:56   \n",
              "1     NaN        NaN  ...  1:16:07  1:31:59  1:47:59  2:02:42  0:04:58   \n",
              "2     NaN        NaN  ...  1:16:07  1:32:00  1:47:59  2:03:01  0:04:59   \n",
              "3     NaN        NaN  ...  1:16:07  1:32:00  1:48:03  2:03:47  0:05:00   \n",
              "4     NaN        NaN  ...  1:16:07  1:32:00  1:47:59  2:03:27  0:05:00   \n",
              "\n",
              "  Proj Time Official Time Overall Gender Division  \n",
              "0         -       2:09:17       1      1        1  \n",
              "1         -       2:09:48       2      2        2  \n",
              "2         -       2:10:22       3      3        3  \n",
              "3         -       2:10:47       4      4        4  \n",
              "4         -       2:10:49       5      5        5  \n",
              "\n",
              "[5 rows x 25 columns]"
            ]
          },
          "execution_count": 3,
          "metadata": {},
          "output_type": "execute_result"
        }
      ],
      "source": [
        "df = pd.concat([mr1,mr2,mr3], join = 'inner')\n",
        "df.head()"
      ]
    },
    {
      "cell_type": "code",
      "execution_count": 4,
      "metadata": {
        "colab": {
          "base_uri": "https://localhost:8080/"
        },
        "id": "7mlMu7Loc81V",
        "outputId": "5290ad5b-f786-4fd0-e598-9859c71ff933"
      },
      "outputs": [
        {
          "data": {
            "text/plain": [
              "Index(['Unnamed: 0', 'Bib', 'Name', 'Age', 'M/F', 'City', 'State', 'Country',\n",
              "       'Citizen', 'Unnamed: 9', '5K', '10K', '15K', '20K', 'Half', '25K',\n",
              "       '30K', '35K', '40K', 'Pace', 'Proj Time', 'Official Time', 'Overall',\n",
              "       'Gender', 'Division'],\n",
              "      dtype='object')"
            ]
          },
          "execution_count": 4,
          "metadata": {},
          "output_type": "execute_result"
        }
      ],
      "source": [
        "df.columns"
      ]
    },
    {
      "cell_type": "code",
      "execution_count": 5,
      "metadata": {
        "colab": {
          "base_uri": "https://localhost:8080/"
        },
        "id": "OztJzWN_c_ue",
        "outputId": "adf0400c-18c2-418f-e119-27bfbd8e29b8"
      },
      "outputs": [
        {
          "data": {
            "text/plain": [
              "(79794, 23)"
            ]
          },
          "execution_count": 5,
          "metadata": {},
          "output_type": "execute_result"
        }
      ],
      "source": [
        "df = df.drop(['Unnamed: 0','Unnamed: 9'], axis = 1)\n",
        "df.shape"
      ]
    },
    {
      "cell_type": "code",
      "execution_count": 6,
      "metadata": {
        "colab": {
          "base_uri": "https://localhost:8080/"
        },
        "id": "WTFXeQZndVp8",
        "outputId": "e0d83e14-f974-42ec-fd8f-5f27ba4e2f14"
      },
      "outputs": [
        {
          "data": {
            "text/plain": [
              "Index(['Bib', 'Name', 'Age', 'M/F', 'City', 'State', 'Country', 'Citizen',\n",
              "       '5K', '10K', '15K', '20K', 'Half', '25K', '30K', '35K', '40K', 'Pace',\n",
              "       'Proj Time', 'Official Time', 'Overall', 'Gender', 'Division'],\n",
              "      dtype='object')"
            ]
          },
          "execution_count": 6,
          "metadata": {},
          "output_type": "execute_result"
        }
      ],
      "source": [
        "df.columns"
      ]
    },
    {
      "cell_type": "code",
      "execution_count": 7,
      "metadata": {
        "colab": {
          "base_uri": "https://localhost:8080/",
          "height": 687
        },
        "id": "_s-Fx14kbOor",
        "outputId": "e075c084-c0e6-4fe6-c027-545c848b44b7"
      },
      "outputs": [
        {
          "data": {
            "text/html": [
              "<div>\n",
              "<style scoped>\n",
              "    .dataframe tbody tr th:only-of-type {\n",
              "        vertical-align: middle;\n",
              "    }\n",
              "\n",
              "    .dataframe tbody tr th {\n",
              "        vertical-align: top;\n",
              "    }\n",
              "\n",
              "    .dataframe thead th {\n",
              "        text-align: right;\n",
              "    }\n",
              "</style>\n",
              "<table border=\"1\" class=\"dataframe\">\n",
              "  <thead>\n",
              "    <tr style=\"text-align: right;\">\n",
              "      <th></th>\n",
              "      <th>Bib</th>\n",
              "      <th>Name</th>\n",
              "      <th>Age</th>\n",
              "      <th>M/F</th>\n",
              "      <th>City</th>\n",
              "      <th>State</th>\n",
              "      <th>Country</th>\n",
              "      <th>Citizen</th>\n",
              "      <th>5K</th>\n",
              "      <th>10K</th>\n",
              "      <th>...</th>\n",
              "      <th>25K</th>\n",
              "      <th>30K</th>\n",
              "      <th>35K</th>\n",
              "      <th>40K</th>\n",
              "      <th>Pace</th>\n",
              "      <th>Proj Time</th>\n",
              "      <th>Official Time</th>\n",
              "      <th>Overall</th>\n",
              "      <th>Gender</th>\n",
              "      <th>Division</th>\n",
              "    </tr>\n",
              "  </thead>\n",
              "  <tbody>\n",
              "    <tr>\n",
              "      <th>0</th>\n",
              "      <td>3</td>\n",
              "      <td>Desisa, Lelisa</td>\n",
              "      <td>25</td>\n",
              "      <td>M</td>\n",
              "      <td>Ambo</td>\n",
              "      <td>NaN</td>\n",
              "      <td>ETH</td>\n",
              "      <td>NaN</td>\n",
              "      <td>0:14:43</td>\n",
              "      <td>0:29:43</td>\n",
              "      <td>...</td>\n",
              "      <td>1:16:07</td>\n",
              "      <td>1:32:00</td>\n",
              "      <td>1:47:59</td>\n",
              "      <td>2:02:39</td>\n",
              "      <td>0:04:56</td>\n",
              "      <td>-</td>\n",
              "      <td>2:09:17</td>\n",
              "      <td>1</td>\n",
              "      <td>1</td>\n",
              "      <td>1</td>\n",
              "    </tr>\n",
              "    <tr>\n",
              "      <th>1</th>\n",
              "      <td>4</td>\n",
              "      <td>Tsegay, Yemane Adhane</td>\n",
              "      <td>30</td>\n",
              "      <td>M</td>\n",
              "      <td>Addis Ababa</td>\n",
              "      <td>NaN</td>\n",
              "      <td>ETH</td>\n",
              "      <td>NaN</td>\n",
              "      <td>0:14:43</td>\n",
              "      <td>0:29:43</td>\n",
              "      <td>...</td>\n",
              "      <td>1:16:07</td>\n",
              "      <td>1:31:59</td>\n",
              "      <td>1:47:59</td>\n",
              "      <td>2:02:42</td>\n",
              "      <td>0:04:58</td>\n",
              "      <td>-</td>\n",
              "      <td>2:09:48</td>\n",
              "      <td>2</td>\n",
              "      <td>2</td>\n",
              "      <td>2</td>\n",
              "    </tr>\n",
              "    <tr>\n",
              "      <th>2</th>\n",
              "      <td>8</td>\n",
              "      <td>Chebet, Wilson</td>\n",
              "      <td>29</td>\n",
              "      <td>M</td>\n",
              "      <td>Marakwet</td>\n",
              "      <td>NaN</td>\n",
              "      <td>KEN</td>\n",
              "      <td>NaN</td>\n",
              "      <td>0:14:43</td>\n",
              "      <td>0:29:43</td>\n",
              "      <td>...</td>\n",
              "      <td>1:16:07</td>\n",
              "      <td>1:32:00</td>\n",
              "      <td>1:47:59</td>\n",
              "      <td>2:03:01</td>\n",
              "      <td>0:04:59</td>\n",
              "      <td>-</td>\n",
              "      <td>2:10:22</td>\n",
              "      <td>3</td>\n",
              "      <td>3</td>\n",
              "      <td>3</td>\n",
              "    </tr>\n",
              "    <tr>\n",
              "      <th>3</th>\n",
              "      <td>11</td>\n",
              "      <td>Kipyego, Bernard</td>\n",
              "      <td>28</td>\n",
              "      <td>M</td>\n",
              "      <td>Eldoret</td>\n",
              "      <td>NaN</td>\n",
              "      <td>KEN</td>\n",
              "      <td>NaN</td>\n",
              "      <td>0:14:43</td>\n",
              "      <td>0:29:44</td>\n",
              "      <td>...</td>\n",
              "      <td>1:16:07</td>\n",
              "      <td>1:32:00</td>\n",
              "      <td>1:48:03</td>\n",
              "      <td>2:03:47</td>\n",
              "      <td>0:05:00</td>\n",
              "      <td>-</td>\n",
              "      <td>2:10:47</td>\n",
              "      <td>4</td>\n",
              "      <td>4</td>\n",
              "      <td>4</td>\n",
              "    </tr>\n",
              "    <tr>\n",
              "      <th>4</th>\n",
              "      <td>10</td>\n",
              "      <td>Korir, Wesley</td>\n",
              "      <td>32</td>\n",
              "      <td>M</td>\n",
              "      <td>Kitale</td>\n",
              "      <td>NaN</td>\n",
              "      <td>KEN</td>\n",
              "      <td>NaN</td>\n",
              "      <td>0:14:43</td>\n",
              "      <td>0:29:44</td>\n",
              "      <td>...</td>\n",
              "      <td>1:16:07</td>\n",
              "      <td>1:32:00</td>\n",
              "      <td>1:47:59</td>\n",
              "      <td>2:03:27</td>\n",
              "      <td>0:05:00</td>\n",
              "      <td>-</td>\n",
              "      <td>2:10:49</td>\n",
              "      <td>5</td>\n",
              "      <td>5</td>\n",
              "      <td>5</td>\n",
              "    </tr>\n",
              "    <tr>\n",
              "      <th>...</th>\n",
              "      <td>...</td>\n",
              "      <td>...</td>\n",
              "      <td>...</td>\n",
              "      <td>...</td>\n",
              "      <td>...</td>\n",
              "      <td>...</td>\n",
              "      <td>...</td>\n",
              "      <td>...</td>\n",
              "      <td>...</td>\n",
              "      <td>...</td>\n",
              "      <td>...</td>\n",
              "      <td>...</td>\n",
              "      <td>...</td>\n",
              "      <td>...</td>\n",
              "      <td>...</td>\n",
              "      <td>...</td>\n",
              "      <td>...</td>\n",
              "      <td>...</td>\n",
              "      <td>...</td>\n",
              "      <td>...</td>\n",
              "      <td>...</td>\n",
              "    </tr>\n",
              "    <tr>\n",
              "      <th>26593</th>\n",
              "      <td>25656</td>\n",
              "      <td>Prescott, Francine J.</td>\n",
              "      <td>64</td>\n",
              "      <td>F</td>\n",
              "      <td>Boynton Beach</td>\n",
              "      <td>FL</td>\n",
              "      <td>USA</td>\n",
              "      <td>NaN</td>\n",
              "      <td>0:50:15</td>\n",
              "      <td>1:43:31</td>\n",
              "      <td>...</td>\n",
              "      <td>4:25:53</td>\n",
              "      <td>5:19:44</td>\n",
              "      <td>6:17:19</td>\n",
              "      <td>7:13:34</td>\n",
              "      <td>0:17:31</td>\n",
              "      <td>-</td>\n",
              "      <td>7:38:56</td>\n",
              "      <td>26594</td>\n",
              "      <td>12015</td>\n",
              "      <td>269</td>\n",
              "    </tr>\n",
              "    <tr>\n",
              "      <th>26594</th>\n",
              "      <td>31359</td>\n",
              "      <td>Emerson, Annette C.</td>\n",
              "      <td>61</td>\n",
              "      <td>F</td>\n",
              "      <td>Old Town</td>\n",
              "      <td>ME</td>\n",
              "      <td>USA</td>\n",
              "      <td>NaN</td>\n",
              "      <td>0:48:36</td>\n",
              "      <td>1:39:39</td>\n",
              "      <td>...</td>\n",
              "      <td>4:32:44</td>\n",
              "      <td>5:31:58</td>\n",
              "      <td>6:28:56</td>\n",
              "      <td>7:26:19</td>\n",
              "      <td>0:17:59</td>\n",
              "      <td>-</td>\n",
              "      <td>7:51:30</td>\n",
              "      <td>26595</td>\n",
              "      <td>12016</td>\n",
              "      <td>270</td>\n",
              "    </tr>\n",
              "    <tr>\n",
              "      <th>26595</th>\n",
              "      <td>25559</td>\n",
              "      <td>Cerveny, Nona</td>\n",
              "      <td>66</td>\n",
              "      <td>F</td>\n",
              "      <td>Scottsdale</td>\n",
              "      <td>AZ</td>\n",
              "      <td>USA</td>\n",
              "      <td>NaN</td>\n",
              "      <td>0:53:03</td>\n",
              "      <td>1:47:16</td>\n",
              "      <td>...</td>\n",
              "      <td>4:33:51</td>\n",
              "      <td>5:38:56</td>\n",
              "      <td>6:38:51</td>\n",
              "      <td>7:36:18</td>\n",
              "      <td>0:18:18</td>\n",
              "      <td>-</td>\n",
              "      <td>7:59:33</td>\n",
              "      <td>26596</td>\n",
              "      <td>12017</td>\n",
              "      <td>91</td>\n",
              "    </tr>\n",
              "    <tr>\n",
              "      <th>26596</th>\n",
              "      <td>29396</td>\n",
              "      <td>Buccilli, Alfred P.</td>\n",
              "      <td>53</td>\n",
              "      <td>M</td>\n",
              "      <td>Lynnfield</td>\n",
              "      <td>MA</td>\n",
              "      <td>USA</td>\n",
              "      <td>NaN</td>\n",
              "      <td>0:49:04</td>\n",
              "      <td>1:40:12</td>\n",
              "      <td>...</td>\n",
              "      <td>4:29:20</td>\n",
              "      <td>5:31:11</td>\n",
              "      <td>6:33:35</td>\n",
              "      <td>7:35:38</td>\n",
              "      <td>0:18:20</td>\n",
              "      <td>-</td>\n",
              "      <td>8:00:37</td>\n",
              "      <td>26597</td>\n",
              "      <td>14580</td>\n",
              "      <td>2055</td>\n",
              "    </tr>\n",
              "    <tr>\n",
              "      <th>26597</th>\n",
              "      <td>25651</td>\n",
              "      <td>Reilly, William</td>\n",
              "      <td>62</td>\n",
              "      <td>M</td>\n",
              "      <td>Kew Garden</td>\n",
              "      <td>NY</td>\n",
              "      <td>USA</td>\n",
              "      <td>NaN</td>\n",
              "      <td>0:40:14</td>\n",
              "      <td>1:28:18</td>\n",
              "      <td>...</td>\n",
              "      <td>4:36:06</td>\n",
              "      <td>5:43:44</td>\n",
              "      <td>6:51:31</td>\n",
              "      <td>7:41:28</td>\n",
              "      <td>0:18:33</td>\n",
              "      <td>-</td>\n",
              "      <td>8:06:01</td>\n",
              "      <td>26598</td>\n",
              "      <td>14581</td>\n",
              "      <td>898</td>\n",
              "    </tr>\n",
              "  </tbody>\n",
              "</table>\n",
              "<p>79794 rows × 23 columns</p>\n",
              "</div>"
            ],
            "text/plain": [
              "         Bib                   Name  Age M/F           City State Country  \\\n",
              "0          3         Desisa, Lelisa   25   M           Ambo   NaN     ETH   \n",
              "1          4  Tsegay, Yemane Adhane   30   M    Addis Ababa   NaN     ETH   \n",
              "2          8         Chebet, Wilson   29   M       Marakwet   NaN     KEN   \n",
              "3         11       Kipyego, Bernard   28   M        Eldoret   NaN     KEN   \n",
              "4         10          Korir, Wesley   32   M         Kitale   NaN     KEN   \n",
              "...      ...                    ...  ...  ..            ...   ...     ...   \n",
              "26593  25656  Prescott, Francine J.   64   F  Boynton Beach    FL     USA   \n",
              "26594  31359    Emerson, Annette C.   61   F       Old Town    ME     USA   \n",
              "26595  25559          Cerveny, Nona   66   F     Scottsdale    AZ     USA   \n",
              "26596  29396    Buccilli, Alfred P.   53   M      Lynnfield    MA     USA   \n",
              "26597  25651        Reilly, William   62   M     Kew Garden    NY     USA   \n",
              "\n",
              "      Citizen       5K      10K  ...      25K      30K      35K      40K  \\\n",
              "0         NaN  0:14:43  0:29:43  ...  1:16:07  1:32:00  1:47:59  2:02:39   \n",
              "1         NaN  0:14:43  0:29:43  ...  1:16:07  1:31:59  1:47:59  2:02:42   \n",
              "2         NaN  0:14:43  0:29:43  ...  1:16:07  1:32:00  1:47:59  2:03:01   \n",
              "3         NaN  0:14:43  0:29:44  ...  1:16:07  1:32:00  1:48:03  2:03:47   \n",
              "4         NaN  0:14:43  0:29:44  ...  1:16:07  1:32:00  1:47:59  2:03:27   \n",
              "...       ...      ...      ...  ...      ...      ...      ...      ...   \n",
              "26593     NaN  0:50:15  1:43:31  ...  4:25:53  5:19:44  6:17:19  7:13:34   \n",
              "26594     NaN  0:48:36  1:39:39  ...  4:32:44  5:31:58  6:28:56  7:26:19   \n",
              "26595     NaN  0:53:03  1:47:16  ...  4:33:51  5:38:56  6:38:51  7:36:18   \n",
              "26596     NaN  0:49:04  1:40:12  ...  4:29:20  5:31:11  6:33:35  7:35:38   \n",
              "26597     NaN  0:40:14  1:28:18  ...  4:36:06  5:43:44  6:51:31  7:41:28   \n",
              "\n",
              "          Pace Proj Time Official Time Overall Gender Division  \n",
              "0      0:04:56         -       2:09:17       1      1        1  \n",
              "1      0:04:58         -       2:09:48       2      2        2  \n",
              "2      0:04:59         -       2:10:22       3      3        3  \n",
              "3      0:05:00         -       2:10:47       4      4        4  \n",
              "4      0:05:00         -       2:10:49       5      5        5  \n",
              "...        ...       ...           ...     ...    ...      ...  \n",
              "26593  0:17:31         -       7:38:56   26594  12015      269  \n",
              "26594  0:17:59         -       7:51:30   26595  12016      270  \n",
              "26595  0:18:18         -       7:59:33   26596  12017       91  \n",
              "26596  0:18:20         -       8:00:37   26597  14580     2055  \n",
              "26597  0:18:33         -       8:06:01   26598  14581      898  \n",
              "\n",
              "[79794 rows x 23 columns]"
            ]
          },
          "execution_count": 7,
          "metadata": {},
          "output_type": "execute_result"
        }
      ],
      "source": [
        "df"
      ]
    },
    {
      "cell_type": "code",
      "execution_count": 8,
      "metadata": {
        "id": "MQzf4B2partb"
      },
      "outputs": [],
      "source": [
        "X = df[['Pace']] # Independent Variable\n",
        "y = df[['Official Time']] # Dependent Variable"
      ]
    },
    {
      "cell_type": "code",
      "execution_count": 9,
      "metadata": {
        "colab": {
          "base_uri": "https://localhost:8080/",
          "height": 424
        },
        "id": "pz-xJKv2bqCE",
        "outputId": "38c9a0bf-d431-4a73-d465-64ad7d3c267d"
      },
      "outputs": [
        {
          "data": {
            "text/html": [
              "<div>\n",
              "<style scoped>\n",
              "    .dataframe tbody tr th:only-of-type {\n",
              "        vertical-align: middle;\n",
              "    }\n",
              "\n",
              "    .dataframe tbody tr th {\n",
              "        vertical-align: top;\n",
              "    }\n",
              "\n",
              "    .dataframe thead th {\n",
              "        text-align: right;\n",
              "    }\n",
              "</style>\n",
              "<table border=\"1\" class=\"dataframe\">\n",
              "  <thead>\n",
              "    <tr style=\"text-align: right;\">\n",
              "      <th></th>\n",
              "      <th>Pace</th>\n",
              "    </tr>\n",
              "  </thead>\n",
              "  <tbody>\n",
              "    <tr>\n",
              "      <th>0</th>\n",
              "      <td>0:04:56</td>\n",
              "    </tr>\n",
              "    <tr>\n",
              "      <th>1</th>\n",
              "      <td>0:04:58</td>\n",
              "    </tr>\n",
              "    <tr>\n",
              "      <th>2</th>\n",
              "      <td>0:04:59</td>\n",
              "    </tr>\n",
              "    <tr>\n",
              "      <th>3</th>\n",
              "      <td>0:05:00</td>\n",
              "    </tr>\n",
              "    <tr>\n",
              "      <th>4</th>\n",
              "      <td>0:05:00</td>\n",
              "    </tr>\n",
              "    <tr>\n",
              "      <th>...</th>\n",
              "      <td>...</td>\n",
              "    </tr>\n",
              "    <tr>\n",
              "      <th>26593</th>\n",
              "      <td>0:17:31</td>\n",
              "    </tr>\n",
              "    <tr>\n",
              "      <th>26594</th>\n",
              "      <td>0:17:59</td>\n",
              "    </tr>\n",
              "    <tr>\n",
              "      <th>26595</th>\n",
              "      <td>0:18:18</td>\n",
              "    </tr>\n",
              "    <tr>\n",
              "      <th>26596</th>\n",
              "      <td>0:18:20</td>\n",
              "    </tr>\n",
              "    <tr>\n",
              "      <th>26597</th>\n",
              "      <td>0:18:33</td>\n",
              "    </tr>\n",
              "  </tbody>\n",
              "</table>\n",
              "<p>79794 rows × 1 columns</p>\n",
              "</div>"
            ],
            "text/plain": [
              "          Pace\n",
              "0      0:04:56\n",
              "1      0:04:58\n",
              "2      0:04:59\n",
              "3      0:05:00\n",
              "4      0:05:00\n",
              "...        ...\n",
              "26593  0:17:31\n",
              "26594  0:17:59\n",
              "26595  0:18:18\n",
              "26596  0:18:20\n",
              "26597  0:18:33\n",
              "\n",
              "[79794 rows x 1 columns]"
            ]
          },
          "execution_count": 9,
          "metadata": {},
          "output_type": "execute_result"
        }
      ],
      "source": [
        "X"
      ]
    },
    {
      "cell_type": "code",
      "execution_count": 10,
      "metadata": {
        "colab": {
          "base_uri": "https://localhost:8080/"
        },
        "id": "zX9JkZklbbgC",
        "outputId": "193558b2-9f44-47e2-8289-dcf86f770369"
      },
      "outputs": [
        {
          "name": "stderr",
          "output_type": "stream",
          "text": [
            "C:\\Users\\Administrator.DAI-PC2\\AppData\\Local\\Temp\\ipykernel_3648\\3536130141.py:6: SettingWithCopyWarning: \n",
            "A value is trying to be set on a copy of a slice from a DataFrame.\n",
            "Try using .loc[row_indexer,col_indexer] = value instead\n",
            "\n",
            "See the caveats in the documentation: https://pandas.pydata.org/pandas-docs/stable/user_guide/indexing.html#returning-a-view-versus-a-copy\n",
            "  X['Pace'] = X['Pace'].apply(pace_to_time)\n"
          ]
        }
      ],
      "source": [
        "# Converting Pace as timestamp into hr, min, sec\n",
        "def pace_to_time(pace):\n",
        "    hr, min, sec = map(float, pace.split(':'))\n",
        "    return hr * 3600 + min * 60 + sec\n",
        "\n",
        "X['Pace'] = X['Pace'].apply(pace_to_time)"
      ]
    },
    {
      "cell_type": "code",
      "execution_count": 11,
      "metadata": {
        "colab": {
          "base_uri": "https://localhost:8080/",
          "height": 424
        },
        "id": "V2DgGMP_eDHZ",
        "outputId": "6090ce7d-4c6f-46cb-f0ed-cff4b9f24cee"
      },
      "outputs": [
        {
          "data": {
            "text/html": [
              "<div>\n",
              "<style scoped>\n",
              "    .dataframe tbody tr th:only-of-type {\n",
              "        vertical-align: middle;\n",
              "    }\n",
              "\n",
              "    .dataframe tbody tr th {\n",
              "        vertical-align: top;\n",
              "    }\n",
              "\n",
              "    .dataframe thead th {\n",
              "        text-align: right;\n",
              "    }\n",
              "</style>\n",
              "<table border=\"1\" class=\"dataframe\">\n",
              "  <thead>\n",
              "    <tr style=\"text-align: right;\">\n",
              "      <th></th>\n",
              "      <th>Official Time</th>\n",
              "    </tr>\n",
              "  </thead>\n",
              "  <tbody>\n",
              "    <tr>\n",
              "      <th>0</th>\n",
              "      <td>2:09:17</td>\n",
              "    </tr>\n",
              "    <tr>\n",
              "      <th>1</th>\n",
              "      <td>2:09:48</td>\n",
              "    </tr>\n",
              "    <tr>\n",
              "      <th>2</th>\n",
              "      <td>2:10:22</td>\n",
              "    </tr>\n",
              "    <tr>\n",
              "      <th>3</th>\n",
              "      <td>2:10:47</td>\n",
              "    </tr>\n",
              "    <tr>\n",
              "      <th>4</th>\n",
              "      <td>2:10:49</td>\n",
              "    </tr>\n",
              "    <tr>\n",
              "      <th>...</th>\n",
              "      <td>...</td>\n",
              "    </tr>\n",
              "    <tr>\n",
              "      <th>26593</th>\n",
              "      <td>7:38:56</td>\n",
              "    </tr>\n",
              "    <tr>\n",
              "      <th>26594</th>\n",
              "      <td>7:51:30</td>\n",
              "    </tr>\n",
              "    <tr>\n",
              "      <th>26595</th>\n",
              "      <td>7:59:33</td>\n",
              "    </tr>\n",
              "    <tr>\n",
              "      <th>26596</th>\n",
              "      <td>8:00:37</td>\n",
              "    </tr>\n",
              "    <tr>\n",
              "      <th>26597</th>\n",
              "      <td>8:06:01</td>\n",
              "    </tr>\n",
              "  </tbody>\n",
              "</table>\n",
              "<p>79794 rows × 1 columns</p>\n",
              "</div>"
            ],
            "text/plain": [
              "      Official Time\n",
              "0           2:09:17\n",
              "1           2:09:48\n",
              "2           2:10:22\n",
              "3           2:10:47\n",
              "4           2:10:49\n",
              "...             ...\n",
              "26593       7:38:56\n",
              "26594       7:51:30\n",
              "26595       7:59:33\n",
              "26596       8:00:37\n",
              "26597       8:06:01\n",
              "\n",
              "[79794 rows x 1 columns]"
            ]
          },
          "execution_count": 11,
          "metadata": {},
          "output_type": "execute_result"
        }
      ],
      "source": [
        "y"
      ]
    },
    {
      "cell_type": "code",
      "execution_count": 12,
      "metadata": {
        "colab": {
          "base_uri": "https://localhost:8080/"
        },
        "id": "88I5_d7PeEpo",
        "outputId": "5a75ae15-967c-4f88-dd64-b6ce86fe43c8"
      },
      "outputs": [
        {
          "name": "stderr",
          "output_type": "stream",
          "text": [
            "C:\\Users\\Administrator.DAI-PC2\\AppData\\Local\\Temp\\ipykernel_3648\\489693757.py:1: SettingWithCopyWarning: \n",
            "A value is trying to be set on a copy of a slice from a DataFrame.\n",
            "Try using .loc[row_indexer,col_indexer] = value instead\n",
            "\n",
            "See the caveats in the documentation: https://pandas.pydata.org/pandas-docs/stable/user_guide/indexing.html#returning-a-view-versus-a-copy\n",
            "  y['Official Time'] = y['Official Time'].apply(pace_to_time)\n"
          ]
        }
      ],
      "source": [
        "y['Official Time'] = y['Official Time'].apply(pace_to_time)"
      ]
    },
    {
      "cell_type": "code",
      "execution_count": 13,
      "metadata": {
        "colab": {
          "base_uri": "https://localhost:8080/"
        },
        "id": "zRASFxtrbwqG",
        "outputId": "a56e733d-8ae9-422f-d7b1-f6bb5012f7c8"
      },
      "outputs": [
        {
          "data": {
            "text/plain": [
              "0         296.0\n",
              "1         298.0\n",
              "2         299.0\n",
              "3         300.0\n",
              "4         300.0\n",
              "          ...  \n",
              "26593    1051.0\n",
              "26594    1079.0\n",
              "26595    1098.0\n",
              "26596    1100.0\n",
              "26597    1113.0\n",
              "Name: Pace, Length: 79794, dtype: float64"
            ]
          },
          "execution_count": 13,
          "metadata": {},
          "output_type": "execute_result"
        }
      ],
      "source": [
        "X['Pace']"
      ]
    },
    {
      "cell_type": "code",
      "execution_count": 14,
      "metadata": {
        "colab": {
          "base_uri": "https://localhost:8080/"
        },
        "id": "TsYXLCxEeRnY",
        "outputId": "8362554a-1618-430a-ff25-4bd3446543ea"
      },
      "outputs": [
        {
          "data": {
            "text/plain": [
              "0         7757.0\n",
              "1         7788.0\n",
              "2         7822.0\n",
              "3         7847.0\n",
              "4         7849.0\n",
              "          ...   \n",
              "26593    27536.0\n",
              "26594    28290.0\n",
              "26595    28773.0\n",
              "26596    28837.0\n",
              "26597    29161.0\n",
              "Name: Official Time, Length: 79794, dtype: float64"
            ]
          },
          "execution_count": 14,
          "metadata": {},
          "output_type": "execute_result"
        }
      ],
      "source": [
        "y['Official Time']"
      ]
    },
    {
      "cell_type": "code",
      "execution_count": 15,
      "metadata": {
        "id": "XA_3Wl96artb"
      },
      "outputs": [],
      "source": [
        "X_train, X_test, y_train, y_test = train_test_split(X, y, test_size = 0.2, random_state=42)"
      ]
    },
    {
      "cell_type": "code",
      "execution_count": 16,
      "metadata": {
        "colab": {
          "base_uri": "https://localhost:8080/",
          "height": 75
        },
        "id": "gBH__jW6artc",
        "outputId": "261d8654-a889-4b63-d893-97230322eb58"
      },
      "outputs": [
        {
          "data": {
            "text/html": [
              "<style>#sk-container-id-1 {\n",
              "  /* Definition of color scheme common for light and dark mode */\n",
              "  --sklearn-color-text: black;\n",
              "  --sklearn-color-line: gray;\n",
              "  /* Definition of color scheme for unfitted estimators */\n",
              "  --sklearn-color-unfitted-level-0: #fff5e6;\n",
              "  --sklearn-color-unfitted-level-1: #f6e4d2;\n",
              "  --sklearn-color-unfitted-level-2: #ffe0b3;\n",
              "  --sklearn-color-unfitted-level-3: chocolate;\n",
              "  /* Definition of color scheme for fitted estimators */\n",
              "  --sklearn-color-fitted-level-0: #f0f8ff;\n",
              "  --sklearn-color-fitted-level-1: #d4ebff;\n",
              "  --sklearn-color-fitted-level-2: #b3dbfd;\n",
              "  --sklearn-color-fitted-level-3: cornflowerblue;\n",
              "\n",
              "  /* Specific color for light theme */\n",
              "  --sklearn-color-text-on-default-background: var(--sg-text-color, var(--theme-code-foreground, var(--jp-content-font-color1, black)));\n",
              "  --sklearn-color-background: var(--sg-background-color, var(--theme-background, var(--jp-layout-color0, white)));\n",
              "  --sklearn-color-border-box: var(--sg-text-color, var(--theme-code-foreground, var(--jp-content-font-color1, black)));\n",
              "  --sklearn-color-icon: #696969;\n",
              "\n",
              "  @media (prefers-color-scheme: dark) {\n",
              "    /* Redefinition of color scheme for dark theme */\n",
              "    --sklearn-color-text-on-default-background: var(--sg-text-color, var(--theme-code-foreground, var(--jp-content-font-color1, white)));\n",
              "    --sklearn-color-background: var(--sg-background-color, var(--theme-background, var(--jp-layout-color0, #111)));\n",
              "    --sklearn-color-border-box: var(--sg-text-color, var(--theme-code-foreground, var(--jp-content-font-color1, white)));\n",
              "    --sklearn-color-icon: #878787;\n",
              "  }\n",
              "}\n",
              "\n",
              "#sk-container-id-1 {\n",
              "  color: var(--sklearn-color-text);\n",
              "}\n",
              "\n",
              "#sk-container-id-1 pre {\n",
              "  padding: 0;\n",
              "}\n",
              "\n",
              "#sk-container-id-1 input.sk-hidden--visually {\n",
              "  border: 0;\n",
              "  clip: rect(1px 1px 1px 1px);\n",
              "  clip: rect(1px, 1px, 1px, 1px);\n",
              "  height: 1px;\n",
              "  margin: -1px;\n",
              "  overflow: hidden;\n",
              "  padding: 0;\n",
              "  position: absolute;\n",
              "  width: 1px;\n",
              "}\n",
              "\n",
              "#sk-container-id-1 div.sk-dashed-wrapped {\n",
              "  border: 1px dashed var(--sklearn-color-line);\n",
              "  margin: 0 0.4em 0.5em 0.4em;\n",
              "  box-sizing: border-box;\n",
              "  padding-bottom: 0.4em;\n",
              "  background-color: var(--sklearn-color-background);\n",
              "}\n",
              "\n",
              "#sk-container-id-1 div.sk-container {\n",
              "  /* jupyter's `normalize.less` sets `[hidden] { display: none; }`\n",
              "     but bootstrap.min.css set `[hidden] { display: none !important; }`\n",
              "     so we also need the `!important` here to be able to override the\n",
              "     default hidden behavior on the sphinx rendered scikit-learn.org.\n",
              "     See: https://github.com/scikit-learn/scikit-learn/issues/21755 */\n",
              "  display: inline-block !important;\n",
              "  position: relative;\n",
              "}\n",
              "\n",
              "#sk-container-id-1 div.sk-text-repr-fallback {\n",
              "  display: none;\n",
              "}\n",
              "\n",
              "div.sk-parallel-item,\n",
              "div.sk-serial,\n",
              "div.sk-item {\n",
              "  /* draw centered vertical line to link estimators */\n",
              "  background-image: linear-gradient(var(--sklearn-color-text-on-default-background), var(--sklearn-color-text-on-default-background));\n",
              "  background-size: 2px 100%;\n",
              "  background-repeat: no-repeat;\n",
              "  background-position: center center;\n",
              "}\n",
              "\n",
              "/* Parallel-specific style estimator block */\n",
              "\n",
              "#sk-container-id-1 div.sk-parallel-item::after {\n",
              "  content: \"\";\n",
              "  width: 100%;\n",
              "  border-bottom: 2px solid var(--sklearn-color-text-on-default-background);\n",
              "  flex-grow: 1;\n",
              "}\n",
              "\n",
              "#sk-container-id-1 div.sk-parallel {\n",
              "  display: flex;\n",
              "  align-items: stretch;\n",
              "  justify-content: center;\n",
              "  background-color: var(--sklearn-color-background);\n",
              "  position: relative;\n",
              "}\n",
              "\n",
              "#sk-container-id-1 div.sk-parallel-item {\n",
              "  display: flex;\n",
              "  flex-direction: column;\n",
              "}\n",
              "\n",
              "#sk-container-id-1 div.sk-parallel-item:first-child::after {\n",
              "  align-self: flex-end;\n",
              "  width: 50%;\n",
              "}\n",
              "\n",
              "#sk-container-id-1 div.sk-parallel-item:last-child::after {\n",
              "  align-self: flex-start;\n",
              "  width: 50%;\n",
              "}\n",
              "\n",
              "#sk-container-id-1 div.sk-parallel-item:only-child::after {\n",
              "  width: 0;\n",
              "}\n",
              "\n",
              "/* Serial-specific style estimator block */\n",
              "\n",
              "#sk-container-id-1 div.sk-serial {\n",
              "  display: flex;\n",
              "  flex-direction: column;\n",
              "  align-items: center;\n",
              "  background-color: var(--sklearn-color-background);\n",
              "  padding-right: 1em;\n",
              "  padding-left: 1em;\n",
              "}\n",
              "\n",
              "\n",
              "/* Toggleable style: style used for estimator/Pipeline/ColumnTransformer box that is\n",
              "clickable and can be expanded/collapsed.\n",
              "- Pipeline and ColumnTransformer use this feature and define the default style\n",
              "- Estimators will overwrite some part of the style using the `sk-estimator` class\n",
              "*/\n",
              "\n",
              "/* Pipeline and ColumnTransformer style (default) */\n",
              "\n",
              "#sk-container-id-1 div.sk-toggleable {\n",
              "  /* Default theme specific background. It is overwritten whether we have a\n",
              "  specific estimator or a Pipeline/ColumnTransformer */\n",
              "  background-color: var(--sklearn-color-background);\n",
              "}\n",
              "\n",
              "/* Toggleable label */\n",
              "#sk-container-id-1 label.sk-toggleable__label {\n",
              "  cursor: pointer;\n",
              "  display: block;\n",
              "  width: 100%;\n",
              "  margin-bottom: 0;\n",
              "  padding: 0.5em;\n",
              "  box-sizing: border-box;\n",
              "  text-align: center;\n",
              "}\n",
              "\n",
              "#sk-container-id-1 label.sk-toggleable__label-arrow:before {\n",
              "  /* Arrow on the left of the label */\n",
              "  content: \"▸\";\n",
              "  float: left;\n",
              "  margin-right: 0.25em;\n",
              "  color: var(--sklearn-color-icon);\n",
              "}\n",
              "\n",
              "#sk-container-id-1 label.sk-toggleable__label-arrow:hover:before {\n",
              "  color: var(--sklearn-color-text);\n",
              "}\n",
              "\n",
              "/* Toggleable content - dropdown */\n",
              "\n",
              "#sk-container-id-1 div.sk-toggleable__content {\n",
              "  max-height: 0;\n",
              "  max-width: 0;\n",
              "  overflow: hidden;\n",
              "  text-align: left;\n",
              "  /* unfitted */\n",
              "  background-color: var(--sklearn-color-unfitted-level-0);\n",
              "}\n",
              "\n",
              "#sk-container-id-1 div.sk-toggleable__content.fitted {\n",
              "  /* fitted */\n",
              "  background-color: var(--sklearn-color-fitted-level-0);\n",
              "}\n",
              "\n",
              "#sk-container-id-1 div.sk-toggleable__content pre {\n",
              "  margin: 0.2em;\n",
              "  border-radius: 0.25em;\n",
              "  color: var(--sklearn-color-text);\n",
              "  /* unfitted */\n",
              "  background-color: var(--sklearn-color-unfitted-level-0);\n",
              "}\n",
              "\n",
              "#sk-container-id-1 div.sk-toggleable__content.fitted pre {\n",
              "  /* unfitted */\n",
              "  background-color: var(--sklearn-color-fitted-level-0);\n",
              "}\n",
              "\n",
              "#sk-container-id-1 input.sk-toggleable__control:checked~div.sk-toggleable__content {\n",
              "  /* Expand drop-down */\n",
              "  max-height: 200px;\n",
              "  max-width: 100%;\n",
              "  overflow: auto;\n",
              "}\n",
              "\n",
              "#sk-container-id-1 input.sk-toggleable__control:checked~label.sk-toggleable__label-arrow:before {\n",
              "  content: \"▾\";\n",
              "}\n",
              "\n",
              "/* Pipeline/ColumnTransformer-specific style */\n",
              "\n",
              "#sk-container-id-1 div.sk-label input.sk-toggleable__control:checked~label.sk-toggleable__label {\n",
              "  color: var(--sklearn-color-text);\n",
              "  background-color: var(--sklearn-color-unfitted-level-2);\n",
              "}\n",
              "\n",
              "#sk-container-id-1 div.sk-label.fitted input.sk-toggleable__control:checked~label.sk-toggleable__label {\n",
              "  background-color: var(--sklearn-color-fitted-level-2);\n",
              "}\n",
              "\n",
              "/* Estimator-specific style */\n",
              "\n",
              "/* Colorize estimator box */\n",
              "#sk-container-id-1 div.sk-estimator input.sk-toggleable__control:checked~label.sk-toggleable__label {\n",
              "  /* unfitted */\n",
              "  background-color: var(--sklearn-color-unfitted-level-2);\n",
              "}\n",
              "\n",
              "#sk-container-id-1 div.sk-estimator.fitted input.sk-toggleable__control:checked~label.sk-toggleable__label {\n",
              "  /* fitted */\n",
              "  background-color: var(--sklearn-color-fitted-level-2);\n",
              "}\n",
              "\n",
              "#sk-container-id-1 div.sk-label label.sk-toggleable__label,\n",
              "#sk-container-id-1 div.sk-label label {\n",
              "  /* The background is the default theme color */\n",
              "  color: var(--sklearn-color-text-on-default-background);\n",
              "}\n",
              "\n",
              "/* On hover, darken the color of the background */\n",
              "#sk-container-id-1 div.sk-label:hover label.sk-toggleable__label {\n",
              "  color: var(--sklearn-color-text);\n",
              "  background-color: var(--sklearn-color-unfitted-level-2);\n",
              "}\n",
              "\n",
              "/* Label box, darken color on hover, fitted */\n",
              "#sk-container-id-1 div.sk-label.fitted:hover label.sk-toggleable__label.fitted {\n",
              "  color: var(--sklearn-color-text);\n",
              "  background-color: var(--sklearn-color-fitted-level-2);\n",
              "}\n",
              "\n",
              "/* Estimator label */\n",
              "\n",
              "#sk-container-id-1 div.sk-label label {\n",
              "  font-family: monospace;\n",
              "  font-weight: bold;\n",
              "  display: inline-block;\n",
              "  line-height: 1.2em;\n",
              "}\n",
              "\n",
              "#sk-container-id-1 div.sk-label-container {\n",
              "  text-align: center;\n",
              "}\n",
              "\n",
              "/* Estimator-specific */\n",
              "#sk-container-id-1 div.sk-estimator {\n",
              "  font-family: monospace;\n",
              "  border: 1px dotted var(--sklearn-color-border-box);\n",
              "  border-radius: 0.25em;\n",
              "  box-sizing: border-box;\n",
              "  margin-bottom: 0.5em;\n",
              "  /* unfitted */\n",
              "  background-color: var(--sklearn-color-unfitted-level-0);\n",
              "}\n",
              "\n",
              "#sk-container-id-1 div.sk-estimator.fitted {\n",
              "  /* fitted */\n",
              "  background-color: var(--sklearn-color-fitted-level-0);\n",
              "}\n",
              "\n",
              "/* on hover */\n",
              "#sk-container-id-1 div.sk-estimator:hover {\n",
              "  /* unfitted */\n",
              "  background-color: var(--sklearn-color-unfitted-level-2);\n",
              "}\n",
              "\n",
              "#sk-container-id-1 div.sk-estimator.fitted:hover {\n",
              "  /* fitted */\n",
              "  background-color: var(--sklearn-color-fitted-level-2);\n",
              "}\n",
              "\n",
              "/* Specification for estimator info (e.g. \"i\" and \"?\") */\n",
              "\n",
              "/* Common style for \"i\" and \"?\" */\n",
              "\n",
              ".sk-estimator-doc-link,\n",
              "a:link.sk-estimator-doc-link,\n",
              "a:visited.sk-estimator-doc-link {\n",
              "  float: right;\n",
              "  font-size: smaller;\n",
              "  line-height: 1em;\n",
              "  font-family: monospace;\n",
              "  background-color: var(--sklearn-color-background);\n",
              "  border-radius: 1em;\n",
              "  height: 1em;\n",
              "  width: 1em;\n",
              "  text-decoration: none !important;\n",
              "  margin-left: 1ex;\n",
              "  /* unfitted */\n",
              "  border: var(--sklearn-color-unfitted-level-1) 1pt solid;\n",
              "  color: var(--sklearn-color-unfitted-level-1);\n",
              "}\n",
              "\n",
              ".sk-estimator-doc-link.fitted,\n",
              "a:link.sk-estimator-doc-link.fitted,\n",
              "a:visited.sk-estimator-doc-link.fitted {\n",
              "  /* fitted */\n",
              "  border: var(--sklearn-color-fitted-level-1) 1pt solid;\n",
              "  color: var(--sklearn-color-fitted-level-1);\n",
              "}\n",
              "\n",
              "/* On hover */\n",
              "div.sk-estimator:hover .sk-estimator-doc-link:hover,\n",
              ".sk-estimator-doc-link:hover,\n",
              "div.sk-label-container:hover .sk-estimator-doc-link:hover,\n",
              ".sk-estimator-doc-link:hover {\n",
              "  /* unfitted */\n",
              "  background-color: var(--sklearn-color-unfitted-level-3);\n",
              "  color: var(--sklearn-color-background);\n",
              "  text-decoration: none;\n",
              "}\n",
              "\n",
              "div.sk-estimator.fitted:hover .sk-estimator-doc-link.fitted:hover,\n",
              ".sk-estimator-doc-link.fitted:hover,\n",
              "div.sk-label-container:hover .sk-estimator-doc-link.fitted:hover,\n",
              ".sk-estimator-doc-link.fitted:hover {\n",
              "  /* fitted */\n",
              "  background-color: var(--sklearn-color-fitted-level-3);\n",
              "  color: var(--sklearn-color-background);\n",
              "  text-decoration: none;\n",
              "}\n",
              "\n",
              "/* Span, style for the box shown on hovering the info icon */\n",
              ".sk-estimator-doc-link span {\n",
              "  display: none;\n",
              "  z-index: 9999;\n",
              "  position: relative;\n",
              "  font-weight: normal;\n",
              "  right: .2ex;\n",
              "  padding: .5ex;\n",
              "  margin: .5ex;\n",
              "  width: min-content;\n",
              "  min-width: 20ex;\n",
              "  max-width: 50ex;\n",
              "  color: var(--sklearn-color-text);\n",
              "  box-shadow: 2pt 2pt 4pt #999;\n",
              "  /* unfitted */\n",
              "  background: var(--sklearn-color-unfitted-level-0);\n",
              "  border: .5pt solid var(--sklearn-color-unfitted-level-3);\n",
              "}\n",
              "\n",
              ".sk-estimator-doc-link.fitted span {\n",
              "  /* fitted */\n",
              "  background: var(--sklearn-color-fitted-level-0);\n",
              "  border: var(--sklearn-color-fitted-level-3);\n",
              "}\n",
              "\n",
              ".sk-estimator-doc-link:hover span {\n",
              "  display: block;\n",
              "}\n",
              "\n",
              "/* \"?\"-specific style due to the `<a>` HTML tag */\n",
              "\n",
              "#sk-container-id-1 a.estimator_doc_link {\n",
              "  float: right;\n",
              "  font-size: 1rem;\n",
              "  line-height: 1em;\n",
              "  font-family: monospace;\n",
              "  background-color: var(--sklearn-color-background);\n",
              "  border-radius: 1rem;\n",
              "  height: 1rem;\n",
              "  width: 1rem;\n",
              "  text-decoration: none;\n",
              "  /* unfitted */\n",
              "  color: var(--sklearn-color-unfitted-level-1);\n",
              "  border: var(--sklearn-color-unfitted-level-1) 1pt solid;\n",
              "}\n",
              "\n",
              "#sk-container-id-1 a.estimator_doc_link.fitted {\n",
              "  /* fitted */\n",
              "  border: var(--sklearn-color-fitted-level-1) 1pt solid;\n",
              "  color: var(--sklearn-color-fitted-level-1);\n",
              "}\n",
              "\n",
              "/* On hover */\n",
              "#sk-container-id-1 a.estimator_doc_link:hover {\n",
              "  /* unfitted */\n",
              "  background-color: var(--sklearn-color-unfitted-level-3);\n",
              "  color: var(--sklearn-color-background);\n",
              "  text-decoration: none;\n",
              "}\n",
              "\n",
              "#sk-container-id-1 a.estimator_doc_link.fitted:hover {\n",
              "  /* fitted */\n",
              "  background-color: var(--sklearn-color-fitted-level-3);\n",
              "}\n",
              "</style><div id=\"sk-container-id-1\" class=\"sk-top-container\"><div class=\"sk-text-repr-fallback\"><pre>LinearRegression()</pre><b>In a Jupyter environment, please rerun this cell to show the HTML representation or trust the notebook. <br />On GitHub, the HTML representation is unable to render, please try loading this page with nbviewer.org.</b></div><div class=\"sk-container\" hidden><div class=\"sk-item\"><div class=\"sk-estimator fitted sk-toggleable\"><input class=\"sk-toggleable__control sk-hidden--visually\" id=\"sk-estimator-id-1\" type=\"checkbox\" checked><label for=\"sk-estimator-id-1\" class=\"sk-toggleable__label fitted sk-toggleable__label-arrow fitted\">&nbsp;&nbsp;LinearRegression<a class=\"sk-estimator-doc-link fitted\" rel=\"noreferrer\" target=\"_blank\" href=\"https://scikit-learn.org/1.5/modules/generated/sklearn.linear_model.LinearRegression.html\">?<span>Documentation for LinearRegression</span></a><span class=\"sk-estimator-doc-link fitted\">i<span>Fitted</span></span></label><div class=\"sk-toggleable__content fitted\"><pre>LinearRegression()</pre></div> </div></div></div></div>"
            ],
            "text/plain": [
              "LinearRegression()"
            ]
          },
          "execution_count": 16,
          "metadata": {},
          "output_type": "execute_result"
        }
      ],
      "source": [
        "model = LinearRegression()\n",
        "model.fit(X_train, y_train)"
      ]
    },
    {
      "cell_type": "code",
      "execution_count": 17,
      "metadata": {
        "colab": {
          "base_uri": "https://localhost:8080/"
        },
        "id": "2_gaRUCiartc",
        "outputId": "d80f5f83-4b0b-4fc7-c30d-1f38b449bb70"
      },
      "outputs": [
        {
          "name": "stdout",
          "output_type": "stream",
          "text": [
            "[[13410.80776676]\n",
            " [13306.11129333]\n",
            " [10688.69945769]\n",
            " ...\n",
            " [17415.44787529]\n",
            " [12861.15128127]\n",
            " [20320.77501285]]\n"
          ]
        }
      ],
      "source": [
        "y_pred = model.predict(X_test)\n",
        "print(y_pred)"
      ]
    },
    {
      "cell_type": "code",
      "execution_count": 18,
      "metadata": {
        "id": "F3rtb9Byartc"
      },
      "outputs": [],
      "source": [
        "r2 = r2_score(y_test, y_pred)\n",
        "mae = mean_absolute_error(y_test, y_pred)\n",
        "mse = mean_squared_error(y_test, y_pred)\n",
        "rmse = mse ** 0.5"
      ]
    },
    {
      "cell_type": "code",
      "execution_count": 19,
      "metadata": {
        "colab": {
          "base_uri": "https://localhost:8080/"
        },
        "id": "XitOW20yartc",
        "outputId": "abe10f9b-bf0f-476f-84b9-890395cc7e83"
      },
      "outputs": [
        {
          "name": "stdout",
          "output_type": "stream",
          "text": [
            "R-Squared:  0.9965296018425304\n",
            "Mean Absolute Error (MAE):  8.401084706886325\n",
            "Mean squared Error (MSE):  20344.446542083264\n",
            "Root Mean Squared Error (RMSE):  142.63395998878832\n"
          ]
        }
      ],
      "source": [
        "print(\"R-Squared: \", r2)\n",
        "print(\"Mean Absolute Error (MAE): \", mae)\n",
        "print(\"Mean squared Error (MSE): \", mse)\n",
        "print(\"Root Mean Squared Error (RMSE): \", rmse)"
      ]
    },
    {
      "cell_type": "code",
      "execution_count": 20,
      "metadata": {
        "colab": {
          "base_uri": "https://localhost:8080/",
          "height": 472
        },
        "id": "NKXvJ16Dartd",
        "outputId": "9ec51631-e68c-4473-d16d-96db1e3d880f"
      },
      "outputs": [
        {
          "data": {
            "image/png": "[encoded data removed]",
            "text/plain": [
              "<Figure size 640x480 with 1 Axes>"
            ]
          },
          "metadata": {},
          "output_type": "display_data"
        }
      ],
      "source": [
        "plt.scatter(X_train, y_train, color = 'red')\n",
        "plt.plot(X_train, model.predict(X_train), color = 'blue')\n",
        "plt.title('Training Set')\n",
        "plt.xlabel('Pace')\n",
        "plt.ylabel('Official Time')\n",
        "plt.show()"
      ]
    },
    {
      "cell_type": "code",
      "execution_count": 21,
      "metadata": {
        "colab": {
          "base_uri": "https://localhost:8080/",
          "height": 472
        },
        "id": "5ecVaEgYartd",
        "outputId": "fe337772-6641-419d-9430-d8f361a45638"
      },
      "outputs": [
        {
          "data": {
            "image/png": "[encoded data removed]",
            "text/plain": [
              "<Figure size 640x480 with 1 Axes>"
            ]
          },
          "metadata": {},
          "output_type": "display_data"
        }
      ],
      "source": [
        "plt.scatter(X_test, y_test, color = 'red')\n",
        "plt.plot(X_train, model.predict(X_train), color = 'blue')\n",
        "plt.title('Testing Set')\n",
        "plt.xlabel('Pace')\n",
        "plt.ylabel('Official Time')\n",
        "plt.show()"
      ]
    },
    {
      "cell_type": "code",
      "execution_count": 22,
      "metadata": {
        "colab": {
          "base_uri": "https://localhost:8080/"
        },
        "id": "EJYOr0vLartd",
        "outputId": "81c11b9f-5785-4f19-94bf-84a4e71de8f1"
      },
      "outputs": [
        {
          "name": "stdout",
          "output_type": "stream",
          "text": [
            "***Making predictions for new data***\n",
            "Pace: 925.0...Official Time: [[24220.71864796]]\n",
            "Pace: 4526.0...Official Time: [[118473.71884941]]\n",
            "Pace: 2233.0...Official Time: [[58456.46545815]]\n"
          ]
        },
        {
          "name": "stderr",
          "output_type": "stream",
          "text": [
            "c:\\Users\\Administrator.DAI-PC2\\anaconda3\\envs\\New\\lib\\site-packages\\sklearn\\base.py:493: UserWarning: X does not have valid feature names, but LinearRegression was fitted with feature names\n",
            "  warnings.warn(\n",
            "c:\\Users\\Administrator.DAI-PC2\\anaconda3\\envs\\New\\lib\\site-packages\\sklearn\\base.py:493: UserWarning: X does not have valid feature names, but LinearRegression was fitted with feature names\n",
            "  warnings.warn(\n",
            "c:\\Users\\Administrator.DAI-PC2\\anaconda3\\envs\\New\\lib\\site-packages\\sklearn\\base.py:493: UserWarning: X does not have valid feature names, but LinearRegression was fitted with feature names\n",
            "  warnings.warn(\n"
          ]
        }
      ],
      "source": [
        "print('***Making predictions for new data***')\n",
        "prediction = ['0:15:25', '1:15:26', '0:36:73']\n",
        "\n",
        "for i in prediction:\n",
        "  print(f'Pace: {pace_to_time(i)}...Official Time: {model.predict([[pace_to_time(i)]])}')"
      ]
    },
    {
      "cell_type": "code",
      "execution_count": 23,
      "metadata": {
        "colab": {
          "base_uri": "https://localhost:8080/"
        },
        "id": "7B7Kc8eyarte",
        "outputId": "810c0988-0f85-4fab-82f3-52303b78ac17"
      },
      "outputs": [
        {
          "data": {
            "text/plain": [
              "['final_time_model.pkl']"
            ]
          },
          "execution_count": 23,
          "metadata": {},
          "output_type": "execute_result"
        }
      ],
      "source": [
        "import joblib\n",
        "\n",
        "joblib.dump(model, 'final_time_model.pkl')"
      ]
    },
    {
      "cell_type": "code",
      "execution_count": 24,
      "metadata": {
        "colab": {
          "base_uri": "https://localhost:8080/"
        },
        "id": "Fxu4hb3xarte",
        "outputId": "f2cc8824-43d5-4544-b61a-096aa2d494e1"
      },
      "outputs": [
        {
          "name": "stdout",
          "output_type": "stream",
          "text": [
            "         Pace\n",
            "0       296.0\n",
            "1       298.0\n",
            "2       299.0\n",
            "3       300.0\n",
            "4       300.0\n",
            "...       ...\n",
            "26593  1051.0\n",
            "26594  1079.0\n",
            "26595  1098.0\n",
            "26596  1100.0\n",
            "26597  1113.0\n",
            "\n",
            "[79794 rows x 1 columns]\n",
            "Index(['Pace'], dtype='object')\n",
            "['Pace']\n"
          ]
        }
      ],
      "source": [
        "print(X)\n",
        "print(X.columns)\n",
        "print(list(X.columns))"
      ]
    },
    {
      "cell_type": "code",
      "execution_count": 25,
      "metadata": {
        "colab": {
          "base_uri": "https://localhost:8080/"
        },
        "id": "Y27PjfmVarte",
        "outputId": "c4a68610-5297-44c5-da02-115b188c5c81"
      },
      "outputs": [
        {
          "data": {
            "text/plain": [
              "['pace_column_names.pkl']"
            ]
          },
          "execution_count": 25,
          "metadata": {},
          "output_type": "execute_result"
        }
      ],
      "source": [
        "joblib.dump(list(X.columns), 'pace_column_names.pkl')"
      ]
    }
  ],
  "metadata": {
    "colab": {
      "provenance": []
    },
    "kernelspec": {
      "display_name": "Python 3",
      "language": "python",
      "name": "python3"
    },
    "language_info": {
      "codemirror_mode": {
        "name": "ipython",
        "version": 3
      },
      "file_extension": ".py",
      "mimetype": "text/x-python",
      "name": "python",
      "nbconvert_exporter": "python",
      "pygments_lexer": "ipython3",
      "version": "3.10.13"
    }
  },
  "nbformat": 4,
  "nbformat_minor": 0
}
