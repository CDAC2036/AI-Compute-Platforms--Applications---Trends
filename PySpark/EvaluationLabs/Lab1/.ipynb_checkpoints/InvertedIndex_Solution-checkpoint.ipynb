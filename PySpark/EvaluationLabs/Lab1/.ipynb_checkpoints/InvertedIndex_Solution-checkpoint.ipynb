{
 "cells": [
  {
   "cell_type": "markdown",
   "id": "7653d692",
   "metadata": {},
   "source": [
    "## InvertedIndex - Using RDD\n",
    "1. View the contents of the file hortonworks.txt . It represents semi-structured\n",
    "content where the first string in each line is a Web page URL, followed by a comma-\n",
    "separated list of terms that appear on that particular Web page.\n",
    "\n",
    "2. Write a Spark application using Rdd that takes a set of <key,value> pairs (key is Web\n",
    "page URL and Value is list of terms on the web page) and inverts the index, so that\n",
    "each value(term) becomes a key, and the list of Web page URLs where that term is\n",
    "appearing as a list of values. You can see from the output file how this information\n",
    "could be used as the beginnings of a web search engine.\n",
    "\n",
    "3. Here is a subset of what the output should look like\n",
    "\n",
    "download http://hortonworks.com/community/, http://hortonworks.com/,http://hortonworks.com/download/\n",
    "\n",
    "downloads http://hortonworks.com/get-started/,http://hortonworks.com/events/\n",
    "\n",
    "enterprise http://hortonworks.com/products/hortonworksdataplatform/, http://hortonworks.com/about-us/contact-us/,http://hortonworks.com/\n",
    "\n",
    "feed http://hortonworks.com/products/, http://hortonworks.com/kb,http://hortonworks.com/resources/\n",
    "\n",
    "founders http://hortonworks.com/about-us/,http://hortonworks.com/get-started/\n",
    "\n",
    "hadoop http://hortonworks.com/,http://hortonworks.com/download/, http://hortonworks.com/community/,http:hortonworks.com/kb,http://hortonworks.com/about-us/,http://hortonworks.com/resources/,http://hortonworks.com/webinars/,http://hortonworks.com/resources/,http://hortonworks.com/hadoop-rooting/\n",
    "\n",
    "Note: The inverted index problem is one of the earliest and most common use case of\n",
    "MapReduce: invert the data so that the words on the Web page become the key, and the\n",
    "Web page URLs become the value."
   ]
  },
  {
   "cell_type": "code",
   "execution_count": 1,
   "id": "04e10c4f",
   "metadata": {},
   "outputs": [],
   "source": [
    "# Intialization\n",
    "import os\n",
    "import sys\n",
    "\n",
    "os.environ[\"SPARK_HOME\"] = \"/home/talentum/spark\"\n",
    "os.environ[\"PYLIB\"] = os.environ[\"SPARK_HOME\"] + \"/python/lib\"\n",
    "# In below two lines, use /usr/bin/python2.7 if you want to use Python 2\n",
    "os.environ[\"PYSPARK_PYTHON\"] = \"/usr/bin/python3.6\" \n",
    "os.environ[\"PYSPARK_DRIVER_PYTHON\"] = \"/usr/bin/python3\"\n",
    "sys.path.insert(0, os.environ[\"PYLIB\"] +\"/py4j-0.10.7-src.zip\")\n",
    "sys.path.insert(0, os.environ[\"PYLIB\"] +\"/pyspark.zip\")\n",
    "\n",
    "# NOTE: Whichever package you want mention here.\n",
    "# os.environ['PYSPARK_SUBMIT_ARGS'] = '--packages com.databricks:spark-xml_2.11:0.6.0 pyspark-shell' \n",
    "# os.environ['PYSPARK_SUBMIT_ARGS'] = '--packages org.apache.spark:spark-avro_2.11:2.4.0 pyspark-shell'\n",
    "os.environ['PYSPARK_SUBMIT_ARGS'] = '--packages com.databricks:spark-xml_2.11:0.6.0,org.apache.spark:spark-avro_2.11:2.4.3 pyspark-shell'\n",
    "# os.environ['PYSPARK_SUBMIT_ARGS'] = '--packages com.databricks:spark-xml_2.11:0.6.0,org.apache.spark:spark-avro_2.11:2.4.0 pyspark-shell'"
   ]
  },
  {
   "cell_type": "code",
   "execution_count": 2,
   "id": "08d48690",
   "metadata": {},
   "outputs": [],
   "source": [
    "#Entrypoint 2.x\n",
    "from pyspark.sql import SparkSession\n",
    "spark = SparkSession.builder.appName(\"Spark SQL basic example\").enableHiveSupport().getOrCreate()\n",
    "\n",
    "# On yarn:\n",
    "# spark = SparkSession.builder.appName(\"Spark SQL basic example\").enableHiveSupport().master(\"yarn\").getOrCreate()\n",
    "# specify .master(\"yarn\")\n",
    "\n",
    "sc = spark.sparkContext"
   ]
  },
  {
   "cell_type": "code",
   "execution_count": 3,
   "id": "c44bdc7e",
   "metadata": {},
   "outputs": [
    {
     "name": "stdout",
     "output_type": "stream",
     "text": [
      "hadoop http://hortonworks.com/ , http://hortonworks.com/download/ , http://hortonworks.com/community/ , http://hortonworks.com/kb , http://hortonworks.com/about-us/ , http://hortonworks.com/resources/ , http://hortonworks.com/webinars/ , http://hortonworks.com/resources/ , http://hortonworks.com/hadoop-training/\n",
      "webinars http://hortonworks.com/\n",
      "enterprise http://hortonworks.com/ , http://hortonworks.com/products/hortonworksdataplatform/ , http://hortonworks.com/about-us/contact-us/\n",
      "team http://hortonworks.com/\n",
      "reliability http://hortonworks.com/ , http://hortonworks.com/resources/\n",
      "feed http://hortonworks.com/products/ , http://hortonworks.com/kb , http://hortonworks.com/resources/\n",
      "board http://hortonworks.com/products/\n",
      "password http://hortonworks.com/products/hortonworksdataplatform/ , http://hortonworks.com/community/\n",
      "hdp http://hortonworks.com/get-started/ , http://hortonworks.com/download/ , http://hortonworks.com/about-us/contact-us/ , http://hortonworks.com/events/ , http://hortonworks.com/webinars/ , http://hortonworks.com/hadoop-training/\n",
      "presentations http://hortonworks.com/download/ , http://hortonworks.com/resources/\n",
      "connect http://hortonworks.com/community/\n",
      "knowledgebase http://hortonworks.com/community/\n",
      "platform http://hortonworks.com/kb , http://hortonworks.com/events/ , http://hortonworks.com/resources/\n",
      "support http://hortonworks.com/about-us/contact-us/\n",
      "training http://hortonworks.com/resources/ , http://hortonworks.com/events/ , http://hortonworks.com/hadoop-training/\n",
      "webinar http://hortonworks.com/webinars/\n",
      "instructor-led http://hortonworks.com/hadoop-training/\n",
      "articles http://hortonworks.com/ , http://hortonworks.com/community/\n",
      "download http://hortonworks.com/ , http://hortonworks.com/download/ , http://hortonworks.com/community/\n",
      "hortonworks http://hortonworks.com/products/ , http://hortonworks.com/about-us/ , http://hortonworks.com/about-us/contact-us/\n",
      "services http://hortonworks.com/products/ , http://hortonworks.com/resources/\n",
      "core http://hortonworks.com/products/ , http://hortonworks.com/kb\n",
      "deployments http://hortonworks.com/products/ , http://hortonworks.com/get-started/\n",
      "required http://hortonworks.com/products/\n",
      "apache http://hortonworks.com/products/hortonworksdataplatform/ , http://hortonworks.com/about-us/\n",
      "directors http://hortonworks.com/products/hortonworksdataplatform/ , http://hortonworks.com/about-us/\n",
      "data http://hortonworks.com/get-started/\n",
      "downloads http://hortonworks.com/get-started/ , http://hortonworks.com/events/\n",
      "founders http://hortonworks.com/get-started/ , http://hortonworks.com/about-us/\n",
      "register http://hortonworks.com/download/\n",
      "videos http://hortonworks.com/download/ , http://hortonworks.com/resources/ , http://hortonworks.com/events/ , http://hortonworks.com/webinars/\n",
      "about http://hortonworks.com/about-us/\n",
      "contact http://hortonworks.com/about-us/contact-us/\n",
      "blog http://hortonworks.com/resources/\n",
      "certification http://hortonworks.com/hadoop-training/\n",
      "courses http://hortonworks.com/hadoop-training/\n",
      "learn http://hortonworks.com/hadoop-training/\n"
     ]
    }
   ],
   "source": [
    "file_path = \"file:///home/talentum/test-jupyter/EvaluationLabs/Lab1/hortonworks.txt\"\n",
    "\n",
    "# Create a baseRDD from the file path\n",
    "baseRDD = sc.textFile(file_path)\n",
    "\n",
    "# Split the lines of baseRDD\n",
    "splitRDD = baseRDD.map(lambda x: x.split(','))\n",
    "\n",
    "# Create a tuple of the (Key,urls)\n",
    "splitRDD_no_stop_words = splitRDD.flatMap(lambda line: [(word,line[0]) for word in line[1:]])\n",
    "\n",
    "# Reduce all values on basis of key\n",
    "resultRDD = splitRDD_no_stop_words.reduceByKey(lambda x, y: x +' , '+ y)\n",
    "\n",
    "# Display outputs of inverted key-value pairs\n",
    "for key, value in resultRDD.collect():\n",
    "    print(key,value)"
   ]
  },
  {
   "cell_type": "code",
   "execution_count": 4,
   "id": "db5db7af",
   "metadata": {},
   "outputs": [
    {
     "name": "stdout",
     "output_type": "stream",
     "text": [
      "+--------------+--------------------+\n",
      "|    Key (Path)|      Value (Domain)|\n",
      "+--------------+--------------------+\n",
      "|        hadoop|http://hortonwork...|\n",
      "|      webinars|http://hortonwork...|\n",
      "|    enterprise|http://hortonwork...|\n",
      "|          team|http://hortonwork...|\n",
      "|   reliability|http://hortonwork...|\n",
      "|          feed|http://hortonwork...|\n",
      "|         board|http://hortonwork...|\n",
      "|      password|http://hortonwork...|\n",
      "|           hdp|http://hortonwork...|\n",
      "| presentations|http://hortonwork...|\n",
      "|       connect|http://hortonwork...|\n",
      "| knowledgebase|http://hortonwork...|\n",
      "|      platform|http://hortonwork...|\n",
      "|       support|http://hortonwork...|\n",
      "|      training|http://hortonwork...|\n",
      "|       webinar|http://hortonwork...|\n",
      "|instructor-led|http://hortonwork...|\n",
      "|      articles|http://hortonwork...|\n",
      "|      download|http://hortonwork...|\n",
      "|   hortonworks|http://hortonwork...|\n",
      "+--------------+--------------------+\n",
      "only showing top 20 rows\n",
      "\n",
      "None\n"
     ]
    }
   ],
   "source": [
    "from pyspark.sql.types import *\n",
    "\n",
    "storeRDD = sc.parallelize(resultRDD.collect())\n",
    "\n",
    "# Define a schema for creating a Dataframe\n",
    "urls_schema = StructType([\n",
    "  StructField('Key (Path)', StringType(), True),\n",
    "  StructField('Value (Domain)', StringType(), True)\n",
    "])\n",
    "\n",
    "df = spark.createDataFrame(storeRDD, schema=urls_schema)\n",
    "print(df.show()) # By default, it shows first 20 rows"
   ]
  }
 ],
 "metadata": {
  "kernelspec": {
   "display_name": "Python 3",
   "language": "python",
   "name": "python3"
  },
  "language_info": {
   "codemirror_mode": {
    "name": "ipython",
    "version": 3
   },
   "file_extension": ".py",
   "mimetype": "text/x-python",
   "name": "python",
   "nbconvert_exporter": "python",
   "pygments_lexer": "ipython3",
   "version": "3.6.9"
  }
 },
 "nbformat": 4,
 "nbformat_minor": 5
}
