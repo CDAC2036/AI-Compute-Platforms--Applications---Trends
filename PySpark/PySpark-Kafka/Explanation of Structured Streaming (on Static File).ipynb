{
 "cells": [
  {
   "cell_type": "code",
   "execution_count": 1,
   "id": "51c21e1f",
   "metadata": {},
   "outputs": [],
   "source": [
    "# Intialization\n",
    "import os\n",
    "import sys\n",
    "\n",
    "os.environ[\"SPARK_HOME\"] = \"/home/talentum/spark\"\n",
    "os.environ[\"PYLIB\"] = os.environ[\"SPARK_HOME\"] + \"/python/lib\"\n",
    "# In below two lines, use /usr/bin/python2.7 if you want to use Python 2\n",
    "os.environ[\"PYSPARK_PYTHON\"] = \"/usr/bin/python3.6\" \n",
    "os.environ[\"PYSPARK_DRIVER_PYTHON\"] = \"/usr/bin/python3\"\n",
    "sys.path.insert(0, os.environ[\"PYLIB\"] +\"/py4j-0.10.7-src.zip\")\n",
    "sys.path.insert(0, os.environ[\"PYLIB\"] +\"/pyspark.zip\")\n",
    "\n",
    "# NOTE: Whichever package you want mention here.\n",
    "# os.environ['PYSPARK_SUBMIT_ARGS'] = '--packages com.databricks:spark-xml_2.11:0.6.0 pyspark-shell' \n",
    "# os.environ['PYSPARK_SUBMIT_ARGS'] = '--packages org.apache.spark:spark-avro_2.11:2.4.0 pyspark-shell'\n",
    "os.environ['PYSPARK_SUBMIT_ARGS'] = '--packages com.databricks:spark-xml_2.11:0.6.0,org.apache.spark:spark-avro_2.11:2.4.3 pyspark-shell'\n",
    "# os.environ['PYSPARK_SUBMIT_ARGS'] = '--packages com.databricks:spark-xml_2.11:0.6.0,org.apache.spark:spark-avro_2.11:2.4.0 pyspark-shell'"
   ]
  },
  {
   "cell_type": "code",
   "execution_count": 2,
   "id": "776b5d7b",
   "metadata": {},
   "outputs": [],
   "source": [
    "#Entrypoint 2.x\n",
    "from pyspark.sql import SparkSession\n",
    "spark = SparkSession.builder.appName(\"Spark SQL basic example\").enableHiveSupport().getOrCreate()\n",
    "\n",
    "# On yarn:\n",
    "# spark = SparkSession.builder.appName(\"Spark SQL basic example\").enableHiveSupport().master(\"yarn\").getOrCreate()\n",
    "# specify .master(\"yarn\")\n",
    "\n",
    "sc = spark.sparkContext"
   ]
  },
  {
   "cell_type": "code",
   "execution_count": 3,
   "id": "40f7e0f8",
   "metadata": {},
   "outputs": [],
   "source": [
    "lines = spark.read.text('file:///home/talentum/test-jupyter/P2/M2/SM4/constitution.txt') \n",
    "\n",
    "# Loads text files and returns a DataFrame whose schema starts with a string \n",
    "# column named “value”, and followed by partitioned columns if there are any."
   ]
  },
  {
   "cell_type": "code",
   "execution_count": 4,
   "id": "0043b97d",
   "metadata": {},
   "outputs": [
    {
     "name": "stdout",
     "output_type": "stream",
     "text": [
      "root\n",
      " |-- value: string (nullable = true)\n",
      "\n"
     ]
    }
   ],
   "source": [
    "lines.printSchema()"
   ]
  },
  {
   "cell_type": "code",
   "execution_count": 5,
   "id": "a6e3c13c",
   "metadata": {},
   "outputs": [
    {
     "name": "stdout",
     "output_type": "stream",
     "text": [
      "+-------------------------------------------------------------------------+\n",
      "|value                                                                    |\n",
      "+-------------------------------------------------------------------------+\n",
      "|We the People of the United States, in Order to form a more perfect      |\n",
      "|Union, establish Justice, insure domestic Tranquility, provide for the   |\n",
      "|common defence, promote the general Welfare, and secure the Blessings of |\n",
      "|Liberty to ourselves and our Posterity, do ordain and establish this     |\n",
      "|Constitution for the United States of America.                           |\n",
      "|Article 1.  Section 1 All legislative Powers herein granted shall be     |\n",
      "|vested in a Congress of the United States, which shall consist of a      |\n",
      "|Senate and House of Representatives.  Section 2 The House of             |\n",
      "|Representatives shall be composed of Members chosen every second Year by |\n",
      "|the People of the several States, and the Electors in each State shall   |\n",
      "|have the Qualifications requisite for Electors of the most numerous      |\n",
      "|Branch of the State Legislature.  No Person shall be a Representative    |\n",
      "|who shall not have attained to the Age of twenty five Years, and been    |\n",
      "|seven Years a Citizen of the United States, and who shall not, when      |\n",
      "|elected, be an Inhabitant of that State in which he shall be chosen.     |\n",
      "|Representatives and direct Taxes shall be apportioned among the several  |\n",
      "|States which may be included within this Union, according to their       |\n",
      "|respective Numbers, which shall be determined by adding to the whole     |\n",
      "|Number of free Persons, including those bound to Service for a Term of   |\n",
      "|Years, and excluding Indians not taxed, three fifths of all other        |\n",
      "+-------------------------------------------------------------------------+\n",
      "only showing top 20 rows\n",
      "\n"
     ]
    }
   ],
   "source": [
    "lines.show(truncate=False)"
   ]
  },
  {
   "cell_type": "code",
   "execution_count": 6,
   "id": "c9bff5ba",
   "metadata": {},
   "outputs": [],
   "source": [
    "import pyspark.sql.functions as F\n",
    "\n",
    "lines = lines.withColumn('splits', F.split(lines.value, ' '))"
   ]
  },
  {
   "cell_type": "code",
   "execution_count": 7,
   "id": "ba9112b5",
   "metadata": {},
   "outputs": [
    {
     "name": "stdout",
     "output_type": "stream",
     "text": [
      "+-------------------------------------------------------------------------+--------------------------------------------------------------------------------------+\n",
      "|value                                                                    |splits                                                                                |\n",
      "+-------------------------------------------------------------------------+--------------------------------------------------------------------------------------+\n",
      "|We the People of the United States, in Order to form a more perfect      |[We, the, People, of, the, United, States,, in, Order, to, form, a, more, perfect, ]  |\n",
      "|Union, establish Justice, insure domestic Tranquility, provide for the   |[Union,, establish, Justice,, insure, domestic, Tranquility,, provide, for, the, ]    |\n",
      "|common defence, promote the general Welfare, and secure the Blessings of |[common, defence,, promote, the, general, Welfare,, and, secure, the, Blessings, of, ]|\n",
      "|Liberty to ourselves and our Posterity, do ordain and establish this     |[Liberty, to, ourselves, and, our, Posterity,, do, ordain, and, establish, this, ]    |\n",
      "|Constitution for the United States of America.                           |[Constitution, for, the, United, States, of, America., , ]                            |\n",
      "|Article 1.  Section 1 All legislative Powers herein granted shall be     |[Article, 1., , Section, 1, All, legislative, Powers, herein, granted, shall, be, ]   |\n",
      "|vested in a Congress of the United States, which shall consist of a      |[vested, in, a, Congress, of, the, United, States,, which, shall, consist, of, a, ]   |\n",
      "|Senate and House of Representatives.  Section 2 The House of             |[Senate, and, House, of, Representatives., , Section, 2, The, House, of, ]            |\n",
      "|Representatives shall be composed of Members chosen every second Year by |[Representatives, shall, be, composed, of, Members, chosen, every, second, Year, by, ]|\n",
      "|the People of the several States, and the Electors in each State shall   |[the, People, of, the, several, States,, and, the, Electors, in, each, State, shall, ]|\n",
      "|have the Qualifications requisite for Electors of the most numerous      |[have, the, Qualifications, requisite, for, Electors, of, the, most, numerous, ]      |\n",
      "|Branch of the State Legislature.  No Person shall be a Representative    |[Branch, of, the, State, Legislature., , No, Person, shall, be, a, Representative, ]  |\n",
      "|who shall not have attained to the Age of twenty five Years, and been    |[who, shall, not, have, attained, to, the, Age, of, twenty, five, Years,, and, been, ]|\n",
      "|seven Years a Citizen of the United States, and who shall not, when      |[seven, Years, a, Citizen, of, the, United, States,, and, who, shall, not,, when, ]   |\n",
      "|elected, be an Inhabitant of that State in which he shall be chosen.     |[elected,, be, an, Inhabitant, of, that, State, in, which, he, shall, be, chosen., , ]|\n",
      "|Representatives and direct Taxes shall be apportioned among the several  |[Representatives, and, direct, Taxes, shall, be, apportioned, among, the, several, ]  |\n",
      "|States which may be included within this Union, according to their       |[States, which, may, be, included, within, this, Union,, according, to, their, ]      |\n",
      "|respective Numbers, which shall be determined by adding to the whole     |[respective, Numbers,, which, shall, be, determined, by, adding, to, the, whole, ]    |\n",
      "|Number of free Persons, including those bound to Service for a Term of   |[Number, of, free, Persons,, including, those, bound, to, Service, for, a, Term, of, ]|\n",
      "|Years, and excluding Indians not taxed, three fifths of all other        |[Years,, and, excluding, Indians, not, taxed,, three, fifths, of, all, other, ]       |\n",
      "+-------------------------------------------------------------------------+--------------------------------------------------------------------------------------+\n",
      "only showing top 20 rows\n",
      "\n"
     ]
    }
   ],
   "source": [
    "lines.show(truncate=False)"
   ]
  },
  {
   "cell_type": "code",
   "execution_count": 8,
   "id": "bae1ad38",
   "metadata": {},
   "outputs": [
    {
     "name": "stdout",
     "output_type": "stream",
     "text": [
      "root\n",
      " |-- value: string (nullable = true)\n",
      " |-- splits: array (nullable = true)\n",
      " |    |-- element: string (containsNull = true)\n",
      "\n"
     ]
    }
   ],
   "source": [
    "lines.printSchema()"
   ]
  },
  {
   "cell_type": "code",
   "execution_count": 9,
   "id": "3945a746",
   "metadata": {},
   "outputs": [
    {
     "name": "stdout",
     "output_type": "stream",
     "text": [
      "+--------------------------------------------------------------------------------------+\n",
      "|splits                                                                                |\n",
      "+--------------------------------------------------------------------------------------+\n",
      "|[We, the, People, of, the, United, States,, in, Order, to, form, a, more, perfect, ]  |\n",
      "|[Union,, establish, Justice,, insure, domestic, Tranquility,, provide, for, the, ]    |\n",
      "|[common, defence,, promote, the, general, Welfare,, and, secure, the, Blessings, of, ]|\n",
      "|[Liberty, to, ourselves, and, our, Posterity,, do, ordain, and, establish, this, ]    |\n",
      "|[Constitution, for, the, United, States, of, America., , ]                            |\n",
      "|[Article, 1., , Section, 1, All, legislative, Powers, herein, granted, shall, be, ]   |\n",
      "|[vested, in, a, Congress, of, the, United, States,, which, shall, consist, of, a, ]   |\n",
      "|[Senate, and, House, of, Representatives., , Section, 2, The, House, of, ]            |\n",
      "|[Representatives, shall, be, composed, of, Members, chosen, every, second, Year, by, ]|\n",
      "|[the, People, of, the, several, States,, and, the, Electors, in, each, State, shall, ]|\n",
      "|[have, the, Qualifications, requisite, for, Electors, of, the, most, numerous, ]      |\n",
      "|[Branch, of, the, State, Legislature., , No, Person, shall, be, a, Representative, ]  |\n",
      "|[who, shall, not, have, attained, to, the, Age, of, twenty, five, Years,, and, been, ]|\n",
      "|[seven, Years, a, Citizen, of, the, United, States,, and, who, shall, not,, when, ]   |\n",
      "|[elected,, be, an, Inhabitant, of, that, State, in, which, he, shall, be, chosen., , ]|\n",
      "|[Representatives, and, direct, Taxes, shall, be, apportioned, among, the, several, ]  |\n",
      "|[States, which, may, be, included, within, this, Union,, according, to, their, ]      |\n",
      "|[respective, Numbers,, which, shall, be, determined, by, adding, to, the, whole, ]    |\n",
      "|[Number, of, free, Persons,, including, those, bound, to, Service, for, a, Term, of, ]|\n",
      "|[Years,, and, excluding, Indians, not, taxed,, three, fifths, of, all, other, ]       |\n",
      "+--------------------------------------------------------------------------------------+\n",
      "only showing top 20 rows\n",
      "\n"
     ]
    }
   ],
   "source": [
    "lines.select('splits').show(truncate=False)"
   ]
  },
  {
   "cell_type": "code",
   "execution_count": 10,
   "id": "1234faea",
   "metadata": {},
   "outputs": [],
   "source": [
    "lines = lines.select(F.explode(lines.splits).alias(\"word\")) # Basically word tokenize in form of DataFrame"
   ]
  },
  {
   "cell_type": "code",
   "execution_count": 11,
   "id": "ef1c957f",
   "metadata": {},
   "outputs": [
    {
     "name": "stdout",
     "output_type": "stream",
     "text": [
      "root\n",
      " |-- word: string (nullable = true)\n",
      "\n"
     ]
    }
   ],
   "source": [
    "lines.printSchema()"
   ]
  },
  {
   "cell_type": "code",
   "execution_count": 12,
   "id": "3ce99e5c",
   "metadata": {},
   "outputs": [],
   "source": [
    "wordcount = lines.groupBy('word').count()"
   ]
  },
  {
   "cell_type": "code",
   "execution_count": 13,
   "id": "a32f046a",
   "metadata": {},
   "outputs": [
    {
     "name": "stdout",
     "output_type": "stream",
     "text": [
      "+------------+-----+\n",
      "|        word|count|\n",
      "+------------+-----+\n",
      "|  Inhabitant|    3|\n",
      "|       those|    6|\n",
      "|Affirmation.|    1|\n",
      "|        some|    1|\n",
      "|     Office.|    2|\n",
      "| Legislation|    1|\n",
      "|    thereof.|    3|\n",
      "|     highest|    3|\n",
      "|      Union;|    1|\n",
      "|       parts|    1|\n",
      "|   construed|    4|\n",
      "|  indictment|    1|\n",
      "|      speedy|    1|\n",
      "|jurisdiction|    3|\n",
      "|    beverage|    1|\n",
      "|        Day.|    1|\n",
      "|        coin|    2|\n",
      "|         be,|    1|\n",
      "|       equal|    6|\n",
      "|    Services|    1|\n",
      "+------------+-----+\n",
      "only showing top 20 rows\n",
      "\n"
     ]
    }
   ],
   "source": [
    "wordcount.show()"
   ]
  }
 ],
 "metadata": {
  "kernelspec": {
   "display_name": "Python 3",
   "language": "python",
   "name": "python3"
  },
  "language_info": {
   "codemirror_mode": {
    "name": "ipython",
    "version": 3
   },
   "file_extension": ".py",
   "mimetype": "text/x-python",
   "name": "python",
   "nbconvert_exporter": "python",
   "pygments_lexer": "ipython3",
   "version": "3.6.9"
  }
 },
 "nbformat": 4,
 "nbformat_minor": 5
}
