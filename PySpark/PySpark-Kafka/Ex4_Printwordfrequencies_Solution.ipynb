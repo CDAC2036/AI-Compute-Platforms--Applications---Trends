{
 "cells": [
  {
   "cell_type": "code",
   "execution_count": 1,
   "id": "0de212f9",
   "metadata": {},
   "outputs": [],
   "source": [
    "# Intialization\n",
    "import os\n",
    "import sys\n",
    "\n",
    "os.environ[\"SPARK_HOME\"] = \"/home/talentum/spark\"\n",
    "os.environ[\"PYLIB\"] = os.environ[\"SPARK_HOME\"] + \"/python/lib\"\n",
    "# In below two lines, use /usr/bin/python2.7 if you want to use Python 2\n",
    "os.environ[\"PYSPARK_PYTHON\"] = \"/usr/bin/python3.6\" \n",
    "os.environ[\"PYSPARK_DRIVER_PYTHON\"] = \"/usr/bin/python3\"\n",
    "sys.path.insert(0, os.environ[\"PYLIB\"] +\"/py4j-0.10.7-src.zip\")\n",
    "sys.path.insert(0, os.environ[\"PYLIB\"] +\"/pyspark.zip\")\n",
    "\n",
    "# NOTE: Whichever package you want mention here.\n",
    "# os.environ['PYSPARK_SUBMIT_ARGS'] = '--packages com.databricks:spark-xml_2.11:0.6.0 pyspark-shell' \n",
    "# os.environ['PYSPARK_SUBMIT_ARGS'] = '--packages org.apache.spark:spark-avro_2.11:2.4.0 pyspark-shell'\n",
    "os.environ['PYSPARK_SUBMIT_ARGS'] = '--packages com.databricks:spark-xml_2.11:0.6.0,org.apache.spark:spark-avro_2.11:2.4.3 pyspark-shell'\n",
    "# os.environ['PYSPARK_SUBMIT_ARGS'] = '--packages com.databricks:spark-xml_2.11:0.6.0,org.apache.spark:spark-avro_2.11:2.4.0 pyspark-shell'"
   ]
  },
  {
   "cell_type": "code",
   "execution_count": 2,
   "id": "cc0b6d9b",
   "metadata": {},
   "outputs": [],
   "source": [
    "#Entrypoint 2.x\n",
    "from pyspark.sql import SparkSession\n",
    "spark = SparkSession.builder.appName(\"Spark SQL basic example\").enableHiveSupport().getOrCreate()\n",
    "\n",
    "# On yarn:\n",
    "# spark = SparkSession.builder.appName(\"Spark SQL basic example\").enableHiveSupport().master(\"yarn\").getOrCreate()\n",
    "# specify .master(\"yarn\")\n",
    "\n",
    "sc = spark.sparkContext"
   ]
  },
  {
   "cell_type": "code",
   "execution_count": 3,
   "id": "07f02448",
   "metadata": {},
   "outputs": [],
   "source": [
    "lines = spark.read.text('file:///home/talentum/test-jupyter/P2/M2/SM4/constitution.txt') "
   ]
  },
  {
   "cell_type": "code",
   "execution_count": 4,
   "id": "97cedbf9",
   "metadata": {},
   "outputs": [
    {
     "name": "stdout",
     "output_type": "stream",
     "text": [
      "root\n",
      " |-- value: string (nullable = true)\n",
      "\n"
     ]
    }
   ],
   "source": [
    "lines.printSchema()"
   ]
  },
  {
   "cell_type": "code",
   "execution_count": 5,
   "id": "09823656",
   "metadata": {},
   "outputs": [
    {
     "name": "stdout",
     "output_type": "stream",
     "text": [
      "+-------------------------------------------------------------------------+\n",
      "|value                                                                    |\n",
      "+-------------------------------------------------------------------------+\n",
      "|We the People of the United States, in Order to form a more perfect      |\n",
      "|Union, establish Justice, insure domestic Tranquility, provide for the   |\n",
      "|common defence, promote the general Welfare, and secure the Blessings of |\n",
      "|Liberty to ourselves and our Posterity, do ordain and establish this     |\n",
      "|Constitution for the United States of America.                           |\n",
      "|Article 1.  Section 1 All legislative Powers herein granted shall be     |\n",
      "|vested in a Congress of the United States, which shall consist of a      |\n",
      "|Senate and House of Representatives.  Section 2 The House of             |\n",
      "|Representatives shall be composed of Members chosen every second Year by |\n",
      "|the People of the several States, and the Electors in each State shall   |\n",
      "|have the Qualifications requisite for Electors of the most numerous      |\n",
      "|Branch of the State Legislature.  No Person shall be a Representative    |\n",
      "|who shall not have attained to the Age of twenty five Years, and been    |\n",
      "|seven Years a Citizen of the United States, and who shall not, when      |\n",
      "|elected, be an Inhabitant of that State in which he shall be chosen.     |\n",
      "|Representatives and direct Taxes shall be apportioned among the several  |\n",
      "|States which may be included within this Union, according to their       |\n",
      "|respective Numbers, which shall be determined by adding to the whole     |\n",
      "|Number of free Persons, including those bound to Service for a Term of   |\n",
      "|Years, and excluding Indians not taxed, three fifths of all other        |\n",
      "+-------------------------------------------------------------------------+\n",
      "only showing top 20 rows\n",
      "\n"
     ]
    }
   ],
   "source": [
    "lines.show(truncate=False)"
   ]
  },
  {
   "cell_type": "code",
   "execution_count": 6,
   "id": "5dbfe528",
   "metadata": {},
   "outputs": [],
   "source": [
    "import pyspark.sql.functions as F\n",
    "\n",
    "lines = lines.withColumn('splits', F.split(lines.value, ' '))"
   ]
  },
  {
   "cell_type": "code",
   "execution_count": 7,
   "id": "fb0a6376",
   "metadata": {},
   "outputs": [
    {
     "name": "stdout",
     "output_type": "stream",
     "text": [
      "+-------------------------------------------------------------------------+--------------------------------------------------------------------------------------+\n",
      "|value                                                                    |splits                                                                                |\n",
      "+-------------------------------------------------------------------------+--------------------------------------------------------------------------------------+\n",
      "|We the People of the United States, in Order to form a more perfect      |[We, the, People, of, the, United, States,, in, Order, to, form, a, more, perfect, ]  |\n",
      "|Union, establish Justice, insure domestic Tranquility, provide for the   |[Union,, establish, Justice,, insure, domestic, Tranquility,, provide, for, the, ]    |\n",
      "|common defence, promote the general Welfare, and secure the Blessings of |[common, defence,, promote, the, general, Welfare,, and, secure, the, Blessings, of, ]|\n",
      "|Liberty to ourselves and our Posterity, do ordain and establish this     |[Liberty, to, ourselves, and, our, Posterity,, do, ordain, and, establish, this, ]    |\n",
      "|Constitution for the United States of America.                           |[Constitution, for, the, United, States, of, America., , ]                            |\n",
      "|Article 1.  Section 1 All legislative Powers herein granted shall be     |[Article, 1., , Section, 1, All, legislative, Powers, herein, granted, shall, be, ]   |\n",
      "|vested in a Congress of the United States, which shall consist of a      |[vested, in, a, Congress, of, the, United, States,, which, shall, consist, of, a, ]   |\n",
      "|Senate and House of Representatives.  Section 2 The House of             |[Senate, and, House, of, Representatives., , Section, 2, The, House, of, ]            |\n",
      "|Representatives shall be composed of Members chosen every second Year by |[Representatives, shall, be, composed, of, Members, chosen, every, second, Year, by, ]|\n",
      "|the People of the several States, and the Electors in each State shall   |[the, People, of, the, several, States,, and, the, Electors, in, each, State, shall, ]|\n",
      "|have the Qualifications requisite for Electors of the most numerous      |[have, the, Qualifications, requisite, for, Electors, of, the, most, numerous, ]      |\n",
      "|Branch of the State Legislature.  No Person shall be a Representative    |[Branch, of, the, State, Legislature., , No, Person, shall, be, a, Representative, ]  |\n",
      "|who shall not have attained to the Age of twenty five Years, and been    |[who, shall, not, have, attained, to, the, Age, of, twenty, five, Years,, and, been, ]|\n",
      "|seven Years a Citizen of the United States, and who shall not, when      |[seven, Years, a, Citizen, of, the, United, States,, and, who, shall, not,, when, ]   |\n",
      "|elected, be an Inhabitant of that State in which he shall be chosen.     |[elected,, be, an, Inhabitant, of, that, State, in, which, he, shall, be, chosen., , ]|\n",
      "|Representatives and direct Taxes shall be apportioned among the several  |[Representatives, and, direct, Taxes, shall, be, apportioned, among, the, several, ]  |\n",
      "|States which may be included within this Union, according to their       |[States, which, may, be, included, within, this, Union,, according, to, their, ]      |\n",
      "|respective Numbers, which shall be determined by adding to the whole     |[respective, Numbers,, which, shall, be, determined, by, adding, to, the, whole, ]    |\n",
      "|Number of free Persons, including those bound to Service for a Term of   |[Number, of, free, Persons,, including, those, bound, to, Service, for, a, Term, of, ]|\n",
      "|Years, and excluding Indians not taxed, three fifths of all other        |[Years,, and, excluding, Indians, not, taxed,, three, fifths, of, all, other, ]       |\n",
      "+-------------------------------------------------------------------------+--------------------------------------------------------------------------------------+\n",
      "only showing top 20 rows\n",
      "\n"
     ]
    }
   ],
   "source": [
    "lines.show(truncate=False)"
   ]
  },
  {
   "cell_type": "code",
   "execution_count": 8,
   "id": "ccfd877f",
   "metadata": {},
   "outputs": [
    {
     "name": "stdout",
     "output_type": "stream",
     "text": [
      "root\n",
      " |-- value: string (nullable = true)\n",
      " |-- splits: array (nullable = true)\n",
      " |    |-- element: string (containsNull = true)\n",
      "\n"
     ]
    }
   ],
   "source": [
    "lines.printSchema()"
   ]
  },
  {
   "cell_type": "code",
   "execution_count": 9,
   "id": "90ba2647",
   "metadata": {},
   "outputs": [
    {
     "name": "stdout",
     "output_type": "stream",
     "text": [
      "+--------------------------------------------------------------------------------------+\n",
      "|splits                                                                                |\n",
      "+--------------------------------------------------------------------------------------+\n",
      "|[We, the, People, of, the, United, States,, in, Order, to, form, a, more, perfect, ]  |\n",
      "|[Union,, establish, Justice,, insure, domestic, Tranquility,, provide, for, the, ]    |\n",
      "|[common, defence,, promote, the, general, Welfare,, and, secure, the, Blessings, of, ]|\n",
      "|[Liberty, to, ourselves, and, our, Posterity,, do, ordain, and, establish, this, ]    |\n",
      "|[Constitution, for, the, United, States, of, America., , ]                            |\n",
      "|[Article, 1., , Section, 1, All, legislative, Powers, herein, granted, shall, be, ]   |\n",
      "|[vested, in, a, Congress, of, the, United, States,, which, shall, consist, of, a, ]   |\n",
      "|[Senate, and, House, of, Representatives., , Section, 2, The, House, of, ]            |\n",
      "|[Representatives, shall, be, composed, of, Members, chosen, every, second, Year, by, ]|\n",
      "|[the, People, of, the, several, States,, and, the, Electors, in, each, State, shall, ]|\n",
      "|[have, the, Qualifications, requisite, for, Electors, of, the, most, numerous, ]      |\n",
      "|[Branch, of, the, State, Legislature., , No, Person, shall, be, a, Representative, ]  |\n",
      "|[who, shall, not, have, attained, to, the, Age, of, twenty, five, Years,, and, been, ]|\n",
      "|[seven, Years, a, Citizen, of, the, United, States,, and, who, shall, not,, when, ]   |\n",
      "|[elected,, be, an, Inhabitant, of, that, State, in, which, he, shall, be, chosen., , ]|\n",
      "|[Representatives, and, direct, Taxes, shall, be, apportioned, among, the, several, ]  |\n",
      "|[States, which, may, be, included, within, this, Union,, according, to, their, ]      |\n",
      "|[respective, Numbers,, which, shall, be, determined, by, adding, to, the, whole, ]    |\n",
      "|[Number, of, free, Persons,, including, those, bound, to, Service, for, a, Term, of, ]|\n",
      "|[Years,, and, excluding, Indians, not, taxed,, three, fifths, of, all, other, ]       |\n",
      "+--------------------------------------------------------------------------------------+\n",
      "only showing top 20 rows\n",
      "\n"
     ]
    }
   ],
   "source": [
    "lines.select('splits').show(truncate=False)"
   ]
  },
  {
   "cell_type": "code",
   "execution_count": 10,
   "id": "44e8301d",
   "metadata": {},
   "outputs": [],
   "source": [
    "lines = lines.select(F.explode(lines.splits).alias(\"word\")) # Basically word tokenize in form of DataFrame"
   ]
  },
  {
   "cell_type": "code",
   "execution_count": 11,
   "id": "b5ee5cd9",
   "metadata": {},
   "outputs": [
    {
     "name": "stdout",
     "output_type": "stream",
     "text": [
      "root\n",
      " |-- word: string (nullable = true)\n",
      "\n"
     ]
    }
   ],
   "source": [
    "lines.printSchema()"
   ]
  },
  {
   "cell_type": "code",
   "execution_count": 12,
   "id": "a6992cf8",
   "metadata": {},
   "outputs": [],
   "source": [
    "wordcount = lines.groupBy('word').count()"
   ]
  },
  {
   "cell_type": "code",
   "execution_count": 13,
   "id": "c3a1ab4a",
   "metadata": {},
   "outputs": [
    {
     "name": "stdout",
     "output_type": "stream",
     "text": [
      "root\n",
      " |-- word: string (nullable = true)\n",
      " |-- count: long (nullable = false)\n",
      "\n"
     ]
    }
   ],
   "source": [
    "wordcount.printSchema()"
   ]
  },
  {
   "cell_type": "code",
   "execution_count": 15,
   "id": "28b15fbc",
   "metadata": {},
   "outputs": [
    {
     "name": "stdout",
     "output_type": "stream",
     "text": [
      "+---------------+-----+\n",
      "|           word|count|\n",
      "+---------------+-----+\n",
      "|               |  812|\n",
      "|            the|  662|\n",
      "|             of|  493|\n",
      "|          shall|  293|\n",
      "|            and|  256|\n",
      "|             to|  183|\n",
      "|             be|  178|\n",
      "|             or|  157|\n",
      "|             in|  137|\n",
      "|             by|  100|\n",
      "|              a|   94|\n",
      "|         United|   85|\n",
      "|            for|   81|\n",
      "|            any|   79|\n",
      "|      President|   72|\n",
      "|            The|   64|\n",
      "|             as|   64|\n",
      "|           have|   63|\n",
      "|        States,|   55|\n",
      "|           such|   52|\n",
      "|          State|   47|\n",
      "|         States|   46|\n",
      "|            may|   42|\n",
      "|          which|   42|\n",
      "|            not|   41|\n",
      "|           from|   40|\n",
      "|       Congress|   39|\n",
      "|             on|   39|\n",
      "|            all|   37|\n",
      "|           this|   30|\n",
      "|          other|   30|\n",
      "|      Amendment|   28|\n",
      "|          their|   28|\n",
      "|          House|   27|\n",
      "|     President,|   27|\n",
      "|             he|   25|\n",
      "|           Vice|   24|\n",
      "|            one|   24|\n",
      "|             at|   23|\n",
      "|           that|   23|\n",
      "|            but|   23|\n",
      "|Representatives|   22|\n",
      "|        Section|   22|\n",
      "|             No|   21|\n",
      "|             no|   21|\n",
      "|         State,|   20|\n",
      "|         person|   20|\n",
      "|           each|   20|\n",
      "|         Senate|   19|\n",
      "|            two|   19|\n",
      "|           they|   19|\n",
      "|         within|   19|\n",
      "|             To|   18|\n",
      "|            his|   18|\n",
      "|             an|   18|\n",
      "|             if|   18|\n",
      "|           with|   17|\n",
      "|          under|   17|\n",
      "|            nor|   17|\n",
      "|           been|   17|\n",
      "|        several|   16|\n",
      "|        article|   15|\n",
      "|             it|   15|\n",
      "|            who|   15|\n",
      "|           time|   15|\n",
      "|         unless|   14|\n",
      "|         number|   14|\n",
      "|         during|   14|\n",
      "|        against|   14|\n",
      "|         Person|   13|\n",
      "|        without|   13|\n",
      "|           make|   13|\n",
      "|        States;|   13|\n",
      "|            Law|   13|\n",
      "|          right|   13|\n",
      "|              -|   13|\n",
      "|             is|   13|\n",
      "|         shall,|   13|\n",
      "|           then|   12|\n",
      "|         Office|   12|\n",
      "|   Constitution|   12|\n",
      "|         office|   12|\n",
      "|         public|   12|\n",
      "|             1.|   12|\n",
      "|             2.|   12|\n",
      "|      Congress,|   12|\n",
      "|           when|   11|\n",
      "|         Number|   11|\n",
      "|            its|   11|\n",
      "|       Senators|   11|\n",
      "|         choose|   11|\n",
      "|  Constitution,|   11|\n",
      "|          power|   11|\n",
      "|           more|   10|\n",
      "|          Cases|   10|\n",
      "|        Article|   10|\n",
      "|           Laws|   10|\n",
      "|         except|   10|\n",
      "|            But|   10|\n",
      "|          every|   10|\n",
      "+---------------+-----+\n",
      "only showing top 100 rows\n",
      "\n"
     ]
    }
   ],
   "source": [
    "wordcount.orderBy('count',ascending=False).show(100)"
   ]
  },
  {
   "cell_type": "code",
   "execution_count": 17,
   "id": "21881919",
   "metadata": {},
   "outputs": [
    {
     "ename": "ValueError",
     "evalue": "DataFrame constructor not properly called!",
     "output_type": "error",
     "traceback": [
      "\u001b[0;31m---------------------------------------------------------------------------\u001b[0m",
      "\u001b[0;31mValueError\u001b[0m                                Traceback (most recent call last)",
      "\u001b[0;32m<ipython-input-17-243e8010d994>\u001b[0m in \u001b[0;36m<module>\u001b[0;34m\u001b[0m\n\u001b[1;32m      1\u001b[0m \u001b[0;32mimport\u001b[0m \u001b[0mpandas\u001b[0m \u001b[0;32mas\u001b[0m \u001b[0mpd\u001b[0m\u001b[0;34m\u001b[0m\u001b[0;34m\u001b[0m\u001b[0m\n\u001b[0;32m----> 2\u001b[0;31m \u001b[0ma\u001b[0m\u001b[0;34m=\u001b[0m\u001b[0mpd\u001b[0m\u001b[0;34m.\u001b[0m\u001b[0mDataFrame\u001b[0m\u001b[0;34m(\u001b[0m\u001b[0mwordcount\u001b[0m\u001b[0;34m)\u001b[0m\u001b[0;34m\u001b[0m\u001b[0;34m\u001b[0m\u001b[0m\n\u001b[0m",
      "\u001b[0;32m~/.local/lib/python3.6/site-packages/pandas/core/frame.py\u001b[0m in \u001b[0;36m__init__\u001b[0;34m(self, data, index, columns, dtype, copy)\u001b[0m\n\u001b[1;32m    527\u001b[0m         \u001b[0;32melse\u001b[0m\u001b[0;34m:\u001b[0m\u001b[0;34m\u001b[0m\u001b[0;34m\u001b[0m\u001b[0m\n\u001b[1;32m    528\u001b[0m             \u001b[0;32mif\u001b[0m \u001b[0mindex\u001b[0m \u001b[0;32mis\u001b[0m \u001b[0;32mNone\u001b[0m \u001b[0;32mor\u001b[0m \u001b[0mcolumns\u001b[0m \u001b[0;32mis\u001b[0m \u001b[0;32mNone\u001b[0m\u001b[0;34m:\u001b[0m\u001b[0;34m\u001b[0m\u001b[0;34m\u001b[0m\u001b[0m\n\u001b[0;32m--> 529\u001b[0;31m                 \u001b[0;32mraise\u001b[0m \u001b[0mValueError\u001b[0m\u001b[0;34m(\u001b[0m\u001b[0;34m\"DataFrame constructor not properly called!\"\u001b[0m\u001b[0;34m)\u001b[0m\u001b[0;34m\u001b[0m\u001b[0;34m\u001b[0m\u001b[0m\n\u001b[0m\u001b[1;32m    530\u001b[0m \u001b[0;34m\u001b[0m\u001b[0m\n\u001b[1;32m    531\u001b[0m             \u001b[0;32mif\u001b[0m \u001b[0;32mnot\u001b[0m \u001b[0mdtype\u001b[0m\u001b[0;34m:\u001b[0m\u001b[0;34m\u001b[0m\u001b[0;34m\u001b[0m\u001b[0m\n",
      "\u001b[0;31mValueError\u001b[0m: DataFrame constructor not properly called!"
     ]
    }
   ],
   "source": [
    "import pandas as pd"
   ]
  },
  {
   "cell_type": "code",
   "execution_count": null,
   "id": "a6da7d84",
   "metadata": {},
   "outputs": [],
   "source": []
  }
 ],
 "metadata": {
  "kernelspec": {
   "display_name": "Python 3",
   "language": "python",
   "name": "python3"
  },
  "language_info": {
   "codemirror_mode": {
    "name": "ipython",
    "version": 3
   },
   "file_extension": ".py",
   "mimetype": "text/x-python",
   "name": "python",
   "nbconvert_exporter": "python",
   "pygments_lexer": "ipython3",
   "version": "3.6.9"
  }
 },
 "nbformat": 4,
 "nbformat_minor": 5
}
