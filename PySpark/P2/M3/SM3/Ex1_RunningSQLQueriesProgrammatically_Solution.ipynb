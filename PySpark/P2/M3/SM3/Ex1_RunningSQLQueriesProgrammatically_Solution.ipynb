{
 "cells": [
  {
   "cell_type": "markdown",
   "id": "da666a39",
   "metadata": {},
   "source": [
    "# Running SQL Queries Programmatically\n",
    "\n",
    "- DataFrames can easily be manipulated using SQL queries in PySpark. The `sql()` function on a SparkSession enables applications to run SQL queries programmatically and returns the result as another DataFrame. In this exercise, you'll create a temporary table of the `people_df` DataFrame that you created previously, then construct a query to select the names of the people from the temporary table and assign the result to a new DataFrame.\n",
    "\n",
    "- Remember, you already have `SparkSession` `spark` and `people_df` DataFrame available in your workspace."
   ]
  },
  {
   "cell_type": "markdown",
   "id": "76908f86",
   "metadata": {},
   "source": [
    "## Instructions\n",
    "\n",
    "- Create a temporary table `people` that's a pointer to the `people_df` DataFrame.\n",
    "- Construct a query to select the names of the people from the temporary table `people`.\n",
    "- Assign the result of Spark's query to a new DataFrame - `people_df_names`.\n",
    "- Print the top 10 names of the people from `people_df_names` DataFrame."
   ]
  },
  {
   "cell_type": "code",
   "execution_count": 1,
   "id": "0de212f9",
   "metadata": {},
   "outputs": [],
   "source": [
    "# Intialization\n",
    "import os\n",
    "import sys\n",
    "\n",
    "os.environ[\"SPARK_HOME\"] = \"/home/talentum/spark\"\n",
    "os.environ[\"PYLIB\"] = os.environ[\"SPARK_HOME\"] + \"/python/lib\"\n",
    "# In below two lines, use /usr/bin/python2.7 if you want to use Python 2\n",
    "os.environ[\"PYSPARK_PYTHON\"] = \"/usr/bin/python3.6\" \n",
    "os.environ[\"PYSPARK_DRIVER_PYTHON\"] = \"/usr/bin/python3\"\n",
    "sys.path.insert(0, os.environ[\"PYLIB\"] +\"/py4j-0.10.7-src.zip\")\n",
    "sys.path.insert(0, os.environ[\"PYLIB\"] +\"/pyspark.zip\")\n",
    "\n",
    "# NOTE: Whichever package you want mention here.\n",
    "# os.environ['PYSPARK_SUBMIT_ARGS'] = '--packages com.databricks:spark-xml_2.11:0.6.0 pyspark-shell' \n",
    "# os.environ['PYSPARK_SUBMIT_ARGS'] = '--packages org.apache.spark:spark-avro_2.11:2.4.0 pyspark-shell'\n",
    "os.environ['PYSPARK_SUBMIT_ARGS'] = '--packages com.databricks:spark-xml_2.11:0.6.0,org.apache.spark:spark-avro_2.11:2.4.3 pyspark-shell'\n",
    "# os.environ['PYSPARK_SUBMIT_ARGS'] = '--packages com.databricks:spark-xml_2.11:0.6.0,org.apache.spark:spark-avro_2.11:2.4.0 pyspark-shell'"
   ]
  },
  {
   "cell_type": "code",
   "execution_count": 2,
   "id": "cc0b6d9b",
   "metadata": {},
   "outputs": [],
   "source": [
    "#Entrypoint 2.x\n",
    "from pyspark.sql import SparkSession\n",
    "spark = SparkSession.builder.appName(\"Spark SQL basic example\").enableHiveSupport().getOrCreate()\n",
    "\n",
    "# On yarn:\n",
    "# spark = SparkSession.builder.appName(\"Spark SQL basic example\").enableHiveSupport().master(\"yarn\").getOrCreate()\n",
    "# specify .master(\"yarn\")\n",
    "\n",
    "sc = spark.sparkContext"
   ]
  },
  {
   "cell_type": "code",
   "execution_count": 44,
   "id": "6bffaece",
   "metadata": {},
   "outputs": [
    {
     "name": "stdout",
     "output_type": "stream",
     "text": [
      "+----------------+\n",
      "|            name|\n",
      "+----------------+\n",
      "|  Penelope Lewis|\n",
      "|   David Anthony|\n",
      "|       Ida Shipp|\n",
      "|    Joanna Moore|\n",
      "|  Lisandra Ortiz|\n",
      "|   David Simmons|\n",
      "|   Edward Hudson|\n",
      "|    Albert Jones|\n",
      "|Leonard Cavender|\n",
      "|  Everett Vadala|\n",
      "+----------------+\n",
      "only showing top 10 rows\n",
      "\n",
      "None\n"
     ]
    }
   ],
   "source": [
    "file_path = \"file:///home/talentum/test-jupyter/P2/M3/SM3/Dataset/people.csv\"\n",
    "\n",
    "# Create an DataFrame from file_path\n",
    "people_df = spark.read.csv(file_path, header=True, inferSchema=True)\n",
    "\n",
    "# Create a temporary table \"people\"\n",
    "people_df.createOrReplaceTempView(\"people\")\n",
    "\n",
    "# Construct a query to select the names of the people from the temporary table \"people\"\n",
    "query = '''SELECT name FROM people'''\n",
    "\n",
    "# Assign the result of Spark's query to people_df_names\n",
    "'''\n",
    "pyspark.sql.SparkSession.sql(sqlQuery)\n",
    "\n",
    "Returns a DataFrame representing the result of the given query.\n",
    "'''\n",
    "people_df_names = spark.sql(query)\n",
    "\n",
    "# Print the top 10 names of the people\n",
    "print(people_df_names.show(10))"
   ]
  },
  {
   "cell_type": "code",
   "execution_count": 7,
   "id": "99f4bc84",
   "metadata": {},
   "outputs": [
    {
     "data": {
      "text/plain": [
       "['_c0', 'person_id', 'name', 'sex', 'date of birth']"
      ]
     },
     "execution_count": 7,
     "metadata": {},
     "output_type": "execute_result"
    }
   ],
   "source": [
    "people_df.columns"
   ]
  },
  {
   "cell_type": "code",
   "execution_count": 20,
   "id": "5146350c",
   "metadata": {},
   "outputs": [
    {
     "name": "stdout",
     "output_type": "stream",
     "text": [
      "+-------------+\n",
      "|date of birth|\n",
      "+-------------+\n",
      "|   1990-08-31|\n",
      "|   1999-12-30|\n",
      "|   1970-05-26|\n",
      "|   1973-12-27|\n",
      "|   1959-05-31|\n",
      "|   2009-12-30|\n",
      "|   2029-05-27|\n",
      "|   1995-10-29|\n",
      "|   2021-05-29|\n",
      "|   1979-06-28|\n",
      "+-------------+\n",
      "only showing top 10 rows\n",
      "\n"
     ]
    }
   ],
   "source": [
    "query = '''SELECT `date of birth` from people where DAY(`date of birth`)>25''' # DAY/MONTH/YEAR\n",
    "people_df_names = spark.sql(query)\n",
    "\n",
    "# Print the top 10 names of the people\n",
    "people_df_names.show(10)"
   ]
  },
  {
   "cell_type": "code",
   "execution_count": 43,
   "id": "dbee66ea",
   "metadata": {},
   "outputs": [
    {
     "name": "stdout",
     "output_type": "stream",
     "text": [
      "+-----+---------+-----------------+------+-------------+\n",
      "|  _c0|person_id|             name|   sex|date of birth|\n",
      "+-----+---------+-----------------+------+-------------+\n",
      "| 7519|     7619|     Mario Helton|  male|   2050-11-10|\n",
      "|10383|    10483|Loretta Fernandez|female|   2054-07-23|\n",
      "|12305|    12405|   Donald Edwards|  male|   2056-08-13|\n",
      "|20768|    20868|       Nancy Egan|female|   2051-02-23|\n",
      "|22620|    22720|   Jeffrey Varela|  male|   2052-07-01|\n",
      "|23018|    23118|       Lori Ligon|female|   2053-12-19|\n",
      "|24991|    25091|       Mac Bishop|  male|   2058-06-22|\n",
      "|28868|    28968|      Lori Hudson|female|   2057-04-15|\n",
      "|33866|    33966|    Marcia Mccain|female|   2050-04-22|\n",
      "|39783|    39883|        John Shaw|  male|   2053-08-14|\n",
      "+-----+---------+-----------------+------+-------------+\n",
      "only showing top 10 rows\n",
      "\n"
     ]
    }
   ],
   "source": [
    "query = '''select * from people where year(`date of birth`)>(SELECT max(year(`date of birth`)) from people where substring(name,1,1)==\"A\")''' # DAY/MONTH/YEAR\n",
    "people_df_names = spark.sql(query)\n",
    "\n",
    "# Print the top 10 names of the people\n",
    "people_df_names.show(10)"
   ]
  },
  {
   "cell_type": "code",
   "execution_count": null,
   "id": "840062a5",
   "metadata": {},
   "outputs": [],
   "source": []
  }
 ],
 "metadata": {
  "kernelspec": {
   "display_name": "Python 3",
   "language": "python",
   "name": "python3"
  },
  "language_info": {
   "codemirror_mode": {
    "name": "ipython",
    "version": 3
   },
   "file_extension": ".py",
   "mimetype": "text/x-python",
   "name": "python",
   "nbconvert_exporter": "python",
   "pygments_lexer": "ipython3",
   "version": "3.6.9"
  }
 },
 "nbformat": 4,
 "nbformat_minor": 5
}
